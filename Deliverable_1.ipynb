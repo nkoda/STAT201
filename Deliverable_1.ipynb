{
 "cells": [
  {
   "cell_type": "markdown",
   "metadata": {},
   "source": [
    "# Project Proposal: Case study analysis: Holidays in COVID-19  #\n",
    "\n",
    "Authors: Fares Burwag, Nikko Dumrique (63631204)"
   ]
  },
  {
   "cell_type": "code",
   "execution_count": 1,
   "metadata": {},
   "outputs": [
    {
     "name": "stderr",
     "output_type": "stream",
     "text": [
      "Updating HTML index of packages in '.Library'\n",
      "\n",
      "Making 'packages.html' ...\n",
      " done\n",
      "\n"
     ]
    }
   ],
   "source": [
    "install.packages(\"conflicted\")"
   ]
  },
  {
   "cell_type": "code",
   "execution_count": 2,
   "metadata": {
    "scrolled": true
   },
   "outputs": [
    {
     "name": "stderr",
     "output_type": "stream",
     "text": [
      "── \u001b[1mAttaching packages\u001b[22m ─────────────────────────────────────── tidyverse 1.3.0 ──\n",
      "\n",
      "\u001b[32m✔\u001b[39m \u001b[34mggplot2\u001b[39m 3.3.2     \u001b[32m✔\u001b[39m \u001b[34mpurrr  \u001b[39m 0.3.4\n",
      "\u001b[32m✔\u001b[39m \u001b[34mtibble \u001b[39m 3.0.3     \u001b[32m✔\u001b[39m \u001b[34mdplyr  \u001b[39m 1.0.2\n",
      "\u001b[32m✔\u001b[39m \u001b[34mtidyr  \u001b[39m 1.1.1     \u001b[32m✔\u001b[39m \u001b[34mstringr\u001b[39m 1.4.0\n",
      "\u001b[32m✔\u001b[39m \u001b[34mreadr  \u001b[39m 1.3.1     \u001b[32m✔\u001b[39m \u001b[34mforcats\u001b[39m 0.5.0\n",
      "\n",
      "Warning message:\n",
      "“package ‘ggplot2’ was built under R version 4.0.1”\n",
      "Warning message:\n",
      "“package ‘tibble’ was built under R version 4.0.2”\n",
      "Warning message:\n",
      "“package ‘tidyr’ was built under R version 4.0.2”\n",
      "Warning message:\n",
      "“package ‘dplyr’ was built under R version 4.0.2”\n",
      "── \u001b[1mConflicts\u001b[22m ────────────────────────────────────────── tidyverse_conflicts() ──\n",
      "\u001b[31m✖\u001b[39m \u001b[34mdplyr\u001b[39m::\u001b[32mfilter()\u001b[39m masks \u001b[34mstats\u001b[39m::filter()\n",
      "\u001b[31m✖\u001b[39m \u001b[34mdplyr\u001b[39m::\u001b[32mlag()\u001b[39m    masks \u001b[34mstats\u001b[39m::lag()\n",
      "\n",
      "Warning message:\n",
      "“package ‘infer’ was built under R version 4.0.2”\n",
      "\n",
      "Attaching package: ‘gridExtra’\n",
      "\n",
      "\n",
      "The following object is masked from ‘package:dplyr’:\n",
      "\n",
      "    combine\n",
      "\n",
      "\n",
      "\n",
      "********************************************************\n",
      "\n",
      "Note: As of version 1.0.0, cowplot does not change the\n",
      "\n",
      "  default ggplot2 theme anymore. To recover the previous\n",
      "\n",
      "  behavior, execute:\n",
      "  theme_set(theme_cowplot())\n",
      "\n",
      "********************************************************\n",
      "\n",
      "\n"
     ]
    }
   ],
   "source": [
    "library(tidyverse)\n",
    "library(repr)\n",
    "library(datateachr)\n",
    "library(digest)\n",
    "library(infer)\n",
    "library(gridExtra)\n",
    "library(cowplot)\n",
    "library(dplyr)\n",
    "library(conflicted)\n",
    "library(lubridate)"
   ]
  },
  {
   "cell_type": "code",
   "execution_count": 3,
   "metadata": {},
   "outputs": [
    {
     "name": "stderr",
     "output_type": "stream",
     "text": [
      "[conflicted] Will prefer \u001b[34mdplyr::select\u001b[39m over any other package\n",
      "\n",
      "[conflicted] Will prefer \u001b[34mdplyr::filter\u001b[39m over any other package\n",
      "\n"
     ]
    }
   ],
   "source": [
    "conflict_prefer(\"select\", \"dplyr\")\n",
    "conflict_prefer(\"filter\", \"dplyr\")"
   ]
  },
  {
   "cell_type": "markdown",
   "metadata": {},
   "source": [
    "## Data Wrangling ##"
   ]
  },
  {
   "cell_type": "code",
   "execution_count": 4,
   "metadata": {},
   "outputs": [
    {
     "name": "stderr",
     "output_type": "stream",
     "text": [
      "Parsed with column specification:\n",
      "cols(\n",
      "  .default = col_double(),\n",
      "  prname = \u001b[31mcol_character()\u001b[39m,\n",
      "  prnameFR = \u001b[31mcol_character()\u001b[39m,\n",
      "  date = \u001b[34mcol_date(format = \"\")\u001b[39m,\n",
      "  update = \u001b[33mcol_logical()\u001b[39m,\n",
      "  percentrecover = \u001b[31mcol_character()\u001b[39m\n",
      ")\n",
      "\n",
      "See spec(...) for full column specifications.\n",
      "\n"
     ]
    },
    {
     "data": {
      "text/html": [
       "<table>\n",
       "<caption>A tibble: 6 × 40</caption>\n",
       "<thead>\n",
       "\t<tr><th scope=col>pruid</th><th scope=col>prname</th><th scope=col>prnameFR</th><th scope=col>date</th><th scope=col>update</th><th scope=col>numconf</th><th scope=col>numprob</th><th scope=col>numdeaths</th><th scope=col>numtotal</th><th scope=col>numtested</th><th scope=col>⋯</th><th scope=col>ratedeaths_last14</th><th scope=col>numtotal_last7</th><th scope=col>ratetotal_last7</th><th scope=col>numdeaths_last7</th><th scope=col>ratedeaths_last7</th><th scope=col>avgtotal_last7</th><th scope=col>avgincidence_last7</th><th scope=col>avgdeaths_last7</th><th scope=col>avgratedeaths_last7</th><th scope=col>raterecovered</th></tr>\n",
       "\t<tr><th scope=col>&lt;dbl&gt;</th><th scope=col>&lt;chr&gt;</th><th scope=col>&lt;chr&gt;</th><th scope=col>&lt;date&gt;</th><th scope=col>&lt;lgl&gt;</th><th scope=col>&lt;dbl&gt;</th><th scope=col>&lt;dbl&gt;</th><th scope=col>&lt;dbl&gt;</th><th scope=col>&lt;dbl&gt;</th><th scope=col>&lt;dbl&gt;</th><th scope=col>⋯</th><th scope=col>&lt;dbl&gt;</th><th scope=col>&lt;dbl&gt;</th><th scope=col>&lt;dbl&gt;</th><th scope=col>&lt;dbl&gt;</th><th scope=col>&lt;dbl&gt;</th><th scope=col>&lt;dbl&gt;</th><th scope=col>&lt;dbl&gt;</th><th scope=col>&lt;dbl&gt;</th><th scope=col>&lt;dbl&gt;</th><th scope=col>&lt;dbl&gt;</th></tr>\n",
       "</thead>\n",
       "<tbody>\n",
       "\t<tr><td>35</td><td>Ontario         </td><td>Ontario             </td><td>2020-01-31</td><td>NA</td><td>3</td><td>0</td><td>0</td><td>3</td><td>NA</td><td>⋯</td><td>NA</td><td>NA</td><td>NA</td><td>NA</td><td>NA</td><td>NA</td><td>NA</td><td>NA</td><td>NA</td><td>0</td></tr>\n",
       "\t<tr><td>59</td><td>British Columbia</td><td>Colombie-Britannique</td><td>2020-01-31</td><td>NA</td><td>1</td><td>0</td><td>0</td><td>1</td><td>NA</td><td>⋯</td><td>NA</td><td>NA</td><td>NA</td><td>NA</td><td>NA</td><td>NA</td><td>NA</td><td>NA</td><td>NA</td><td>0</td></tr>\n",
       "\t<tr><td> 1</td><td>Canada          </td><td>Canada              </td><td>2020-01-31</td><td>NA</td><td>4</td><td>0</td><td>0</td><td>4</td><td>NA</td><td>⋯</td><td>NA</td><td>NA</td><td>NA</td><td>NA</td><td>NA</td><td>NA</td><td>NA</td><td>NA</td><td>NA</td><td>0</td></tr>\n",
       "\t<tr><td>35</td><td>Ontario         </td><td>Ontario             </td><td>2020-02-08</td><td>NA</td><td>3</td><td>0</td><td>0</td><td>3</td><td>NA</td><td>⋯</td><td>NA</td><td>NA</td><td>NA</td><td>NA</td><td>NA</td><td>NA</td><td>NA</td><td>NA</td><td>NA</td><td>0</td></tr>\n",
       "\t<tr><td>59</td><td>British Columbia</td><td>Colombie-Britannique</td><td>2020-02-08</td><td>NA</td><td>4</td><td>0</td><td>0</td><td>4</td><td>NA</td><td>⋯</td><td>NA</td><td>NA</td><td>NA</td><td>NA</td><td>NA</td><td>NA</td><td>NA</td><td>NA</td><td>NA</td><td>0</td></tr>\n",
       "\t<tr><td> 1</td><td>Canada          </td><td>Canada              </td><td>2020-02-08</td><td>NA</td><td>7</td><td>0</td><td>0</td><td>7</td><td>NA</td><td>⋯</td><td>NA</td><td>NA</td><td>NA</td><td>NA</td><td>NA</td><td>NA</td><td>NA</td><td>NA</td><td>NA</td><td>0</td></tr>\n",
       "</tbody>\n",
       "</table>\n"
      ],
      "text/latex": [
       "A tibble: 6 × 40\n",
       "\\begin{tabular}{lllllllllllllllllllll}\n",
       " pruid & prname & prnameFR & date & update & numconf & numprob & numdeaths & numtotal & numtested & ⋯ & ratedeaths\\_last14 & numtotal\\_last7 & ratetotal\\_last7 & numdeaths\\_last7 & ratedeaths\\_last7 & avgtotal\\_last7 & avgincidence\\_last7 & avgdeaths\\_last7 & avgratedeaths\\_last7 & raterecovered\\\\\n",
       " <dbl> & <chr> & <chr> & <date> & <lgl> & <dbl> & <dbl> & <dbl> & <dbl> & <dbl> & ⋯ & <dbl> & <dbl> & <dbl> & <dbl> & <dbl> & <dbl> & <dbl> & <dbl> & <dbl> & <dbl>\\\\\n",
       "\\hline\n",
       "\t 35 & Ontario          & Ontario              & 2020-01-31 & NA & 3 & 0 & 0 & 3 & NA & ⋯ & NA & NA & NA & NA & NA & NA & NA & NA & NA & 0\\\\\n",
       "\t 59 & British Columbia & Colombie-Britannique & 2020-01-31 & NA & 1 & 0 & 0 & 1 & NA & ⋯ & NA & NA & NA & NA & NA & NA & NA & NA & NA & 0\\\\\n",
       "\t  1 & Canada           & Canada               & 2020-01-31 & NA & 4 & 0 & 0 & 4 & NA & ⋯ & NA & NA & NA & NA & NA & NA & NA & NA & NA & 0\\\\\n",
       "\t 35 & Ontario          & Ontario              & 2020-02-08 & NA & 3 & 0 & 0 & 3 & NA & ⋯ & NA & NA & NA & NA & NA & NA & NA & NA & NA & 0\\\\\n",
       "\t 59 & British Columbia & Colombie-Britannique & 2020-02-08 & NA & 4 & 0 & 0 & 4 & NA & ⋯ & NA & NA & NA & NA & NA & NA & NA & NA & NA & 0\\\\\n",
       "\t  1 & Canada           & Canada               & 2020-02-08 & NA & 7 & 0 & 0 & 7 & NA & ⋯ & NA & NA & NA & NA & NA & NA & NA & NA & NA & 0\\\\\n",
       "\\end{tabular}\n"
      ],
      "text/markdown": [
       "\n",
       "A tibble: 6 × 40\n",
       "\n",
       "| pruid &lt;dbl&gt; | prname &lt;chr&gt; | prnameFR &lt;chr&gt; | date &lt;date&gt; | update &lt;lgl&gt; | numconf &lt;dbl&gt; | numprob &lt;dbl&gt; | numdeaths &lt;dbl&gt; | numtotal &lt;dbl&gt; | numtested &lt;dbl&gt; | ⋯ ⋯ | ratedeaths_last14 &lt;dbl&gt; | numtotal_last7 &lt;dbl&gt; | ratetotal_last7 &lt;dbl&gt; | numdeaths_last7 &lt;dbl&gt; | ratedeaths_last7 &lt;dbl&gt; | avgtotal_last7 &lt;dbl&gt; | avgincidence_last7 &lt;dbl&gt; | avgdeaths_last7 &lt;dbl&gt; | avgratedeaths_last7 &lt;dbl&gt; | raterecovered &lt;dbl&gt; |\n",
       "|---|---|---|---|---|---|---|---|---|---|---|---|---|---|---|---|---|---|---|---|---|\n",
       "| 35 | Ontario          | Ontario              | 2020-01-31 | NA | 3 | 0 | 0 | 3 | NA | ⋯ | NA | NA | NA | NA | NA | NA | NA | NA | NA | 0 |\n",
       "| 59 | British Columbia | Colombie-Britannique | 2020-01-31 | NA | 1 | 0 | 0 | 1 | NA | ⋯ | NA | NA | NA | NA | NA | NA | NA | NA | NA | 0 |\n",
       "|  1 | Canada           | Canada               | 2020-01-31 | NA | 4 | 0 | 0 | 4 | NA | ⋯ | NA | NA | NA | NA | NA | NA | NA | NA | NA | 0 |\n",
       "| 35 | Ontario          | Ontario              | 2020-02-08 | NA | 3 | 0 | 0 | 3 | NA | ⋯ | NA | NA | NA | NA | NA | NA | NA | NA | NA | 0 |\n",
       "| 59 | British Columbia | Colombie-Britannique | 2020-02-08 | NA | 4 | 0 | 0 | 4 | NA | ⋯ | NA | NA | NA | NA | NA | NA | NA | NA | NA | 0 |\n",
       "|  1 | Canada           | Canada               | 2020-02-08 | NA | 7 | 0 | 0 | 7 | NA | ⋯ | NA | NA | NA | NA | NA | NA | NA | NA | NA | 0 |\n",
       "\n"
      ],
      "text/plain": [
       "  pruid prname           prnameFR             date       update numconf numprob\n",
       "1 35    Ontario          Ontario              2020-01-31 NA     3       0      \n",
       "2 59    British Columbia Colombie-Britannique 2020-01-31 NA     1       0      \n",
       "3  1    Canada           Canada               2020-01-31 NA     4       0      \n",
       "4 35    Ontario          Ontario              2020-02-08 NA     3       0      \n",
       "5 59    British Columbia Colombie-Britannique 2020-02-08 NA     4       0      \n",
       "6  1    Canada           Canada               2020-02-08 NA     7       0      \n",
       "  numdeaths numtotal numtested ⋯ ratedeaths_last14 numtotal_last7\n",
       "1 0         3        NA        ⋯ NA                NA            \n",
       "2 0         1        NA        ⋯ NA                NA            \n",
       "3 0         4        NA        ⋯ NA                NA            \n",
       "4 0         3        NA        ⋯ NA                NA            \n",
       "5 0         4        NA        ⋯ NA                NA            \n",
       "6 0         7        NA        ⋯ NA                NA            \n",
       "  ratetotal_last7 numdeaths_last7 ratedeaths_last7 avgtotal_last7\n",
       "1 NA              NA              NA               NA            \n",
       "2 NA              NA              NA               NA            \n",
       "3 NA              NA              NA               NA            \n",
       "4 NA              NA              NA               NA            \n",
       "5 NA              NA              NA               NA            \n",
       "6 NA              NA              NA               NA            \n",
       "  avgincidence_last7 avgdeaths_last7 avgratedeaths_last7 raterecovered\n",
       "1 NA                 NA              NA                  0            \n",
       "2 NA                 NA              NA                  0            \n",
       "3 NA                 NA              NA                  0            \n",
       "4 NA                 NA              NA                  0            \n",
       "5 NA                 NA              NA                  0            \n",
       "6 NA                 NA              NA                  0            "
      ]
     },
     "metadata": {},
     "output_type": "display_data"
    }
   ],
   "source": [
    "#reading public covid-19 data from https://health-infobase.canada.ca\n",
    "covid <- read_csv(\"https://health-infobase.canada.ca/src/data/covidLive/covid19-download.csv\")\n",
    "head(covid)"
   ]
  },
  {
   "cell_type": "markdown",
   "metadata": {},
   "source": [
    "we would like to localize the datatset to canadian provinces and territories, therefore we will remove prnames that are not one of the provinces/territories. Additionally would like to remove the observations with numtested == NA. "
   ]
  },
  {
   "cell_type": "code",
   "execution_count": 5,
   "metadata": {},
   "outputs": [
    {
     "data": {
      "text/html": [
       "<table>\n",
       "<caption>A tibble: 6 × 40</caption>\n",
       "<thead>\n",
       "\t<tr><th scope=col>pruid</th><th scope=col>prname</th><th scope=col>prnameFR</th><th scope=col>date</th><th scope=col>update</th><th scope=col>numconf</th><th scope=col>numprob</th><th scope=col>numdeaths</th><th scope=col>numtotal</th><th scope=col>numtested</th><th scope=col>⋯</th><th scope=col>ratedeaths_last14</th><th scope=col>numtotal_last7</th><th scope=col>ratetotal_last7</th><th scope=col>numdeaths_last7</th><th scope=col>ratedeaths_last7</th><th scope=col>avgtotal_last7</th><th scope=col>avgincidence_last7</th><th scope=col>avgdeaths_last7</th><th scope=col>avgratedeaths_last7</th><th scope=col>raterecovered</th></tr>\n",
       "\t<tr><th scope=col>&lt;dbl&gt;</th><th scope=col>&lt;chr&gt;</th><th scope=col>&lt;chr&gt;</th><th scope=col>&lt;date&gt;</th><th scope=col>&lt;lgl&gt;</th><th scope=col>&lt;dbl&gt;</th><th scope=col>&lt;dbl&gt;</th><th scope=col>&lt;dbl&gt;</th><th scope=col>&lt;dbl&gt;</th><th scope=col>&lt;dbl&gt;</th><th scope=col>⋯</th><th scope=col>&lt;dbl&gt;</th><th scope=col>&lt;dbl&gt;</th><th scope=col>&lt;dbl&gt;</th><th scope=col>&lt;dbl&gt;</th><th scope=col>&lt;dbl&gt;</th><th scope=col>&lt;dbl&gt;</th><th scope=col>&lt;dbl&gt;</th><th scope=col>&lt;dbl&gt;</th><th scope=col>&lt;dbl&gt;</th><th scope=col>&lt;dbl&gt;</th></tr>\n",
       "</thead>\n",
       "<tbody>\n",
       "\t<tr><td>59</td><td>British Columbia</td><td>Colombie-Britannique</td><td>2020-03-11</td><td>NA</td><td>39</td><td>0</td><td>1</td><td>39</td><td>4373</td><td>⋯</td><td>NA</td><td>NA</td><td>NA</td><td>NA</td><td>NA</td><td>NA</td><td>NA</td><td>NA</td><td>NA</td><td>0</td></tr>\n",
       "\t<tr><td>48</td><td>Alberta         </td><td>Alberta             </td><td>2020-03-11</td><td>NA</td><td>14</td><td>0</td><td>0</td><td>14</td><td>1969</td><td>⋯</td><td>NA</td><td>NA</td><td>NA</td><td>NA</td><td>NA</td><td>NA</td><td>NA</td><td>NA</td><td>NA</td><td>0</td></tr>\n",
       "\t<tr><td>47</td><td>Saskatchewan    </td><td>Saskatchewan        </td><td>2020-03-11</td><td>NA</td><td> 0</td><td>0</td><td>0</td><td> 0</td><td> 204</td><td>⋯</td><td>NA</td><td>NA</td><td>NA</td><td>NA</td><td>NA</td><td>NA</td><td>NA</td><td>NA</td><td>NA</td><td>0</td></tr>\n",
       "\t<tr><td>46</td><td>Manitoba        </td><td>Manitoba            </td><td>2020-03-11</td><td>NA</td><td> 0</td><td>0</td><td>0</td><td> 0</td><td> 352</td><td>⋯</td><td>NA</td><td>NA</td><td>NA</td><td>NA</td><td>NA</td><td>NA</td><td>NA</td><td>NA</td><td>NA</td><td>0</td></tr>\n",
       "\t<tr><td>35</td><td>Ontario         </td><td>Ontario             </td><td>2020-03-11</td><td>NA</td><td>42</td><td>0</td><td>1</td><td>42</td><td>3394</td><td>⋯</td><td>NA</td><td>NA</td><td>NA</td><td>NA</td><td>NA</td><td>NA</td><td>NA</td><td>NA</td><td>NA</td><td>0</td></tr>\n",
       "\t<tr><td>24</td><td>Quebec          </td><td>Québec              </td><td>2020-03-11</td><td>NA</td><td> 7</td><td>0</td><td>0</td><td> 7</td><td> 556</td><td>⋯</td><td>NA</td><td>NA</td><td>NA</td><td>NA</td><td>NA</td><td>NA</td><td>NA</td><td>NA</td><td>NA</td><td>0</td></tr>\n",
       "</tbody>\n",
       "</table>\n"
      ],
      "text/latex": [
       "A tibble: 6 × 40\n",
       "\\begin{tabular}{lllllllllllllllllllll}\n",
       " pruid & prname & prnameFR & date & update & numconf & numprob & numdeaths & numtotal & numtested & ⋯ & ratedeaths\\_last14 & numtotal\\_last7 & ratetotal\\_last7 & numdeaths\\_last7 & ratedeaths\\_last7 & avgtotal\\_last7 & avgincidence\\_last7 & avgdeaths\\_last7 & avgratedeaths\\_last7 & raterecovered\\\\\n",
       " <dbl> & <chr> & <chr> & <date> & <lgl> & <dbl> & <dbl> & <dbl> & <dbl> & <dbl> & ⋯ & <dbl> & <dbl> & <dbl> & <dbl> & <dbl> & <dbl> & <dbl> & <dbl> & <dbl> & <dbl>\\\\\n",
       "\\hline\n",
       "\t 59 & British Columbia & Colombie-Britannique & 2020-03-11 & NA & 39 & 0 & 1 & 39 & 4373 & ⋯ & NA & NA & NA & NA & NA & NA & NA & NA & NA & 0\\\\\n",
       "\t 48 & Alberta          & Alberta              & 2020-03-11 & NA & 14 & 0 & 0 & 14 & 1969 & ⋯ & NA & NA & NA & NA & NA & NA & NA & NA & NA & 0\\\\\n",
       "\t 47 & Saskatchewan     & Saskatchewan         & 2020-03-11 & NA &  0 & 0 & 0 &  0 &  204 & ⋯ & NA & NA & NA & NA & NA & NA & NA & NA & NA & 0\\\\\n",
       "\t 46 & Manitoba         & Manitoba             & 2020-03-11 & NA &  0 & 0 & 0 &  0 &  352 & ⋯ & NA & NA & NA & NA & NA & NA & NA & NA & NA & 0\\\\\n",
       "\t 35 & Ontario          & Ontario              & 2020-03-11 & NA & 42 & 0 & 1 & 42 & 3394 & ⋯ & NA & NA & NA & NA & NA & NA & NA & NA & NA & 0\\\\\n",
       "\t 24 & Quebec           & Québec               & 2020-03-11 & NA &  7 & 0 & 0 &  7 &  556 & ⋯ & NA & NA & NA & NA & NA & NA & NA & NA & NA & 0\\\\\n",
       "\\end{tabular}\n"
      ],
      "text/markdown": [
       "\n",
       "A tibble: 6 × 40\n",
       "\n",
       "| pruid &lt;dbl&gt; | prname &lt;chr&gt; | prnameFR &lt;chr&gt; | date &lt;date&gt; | update &lt;lgl&gt; | numconf &lt;dbl&gt; | numprob &lt;dbl&gt; | numdeaths &lt;dbl&gt; | numtotal &lt;dbl&gt; | numtested &lt;dbl&gt; | ⋯ ⋯ | ratedeaths_last14 &lt;dbl&gt; | numtotal_last7 &lt;dbl&gt; | ratetotal_last7 &lt;dbl&gt; | numdeaths_last7 &lt;dbl&gt; | ratedeaths_last7 &lt;dbl&gt; | avgtotal_last7 &lt;dbl&gt; | avgincidence_last7 &lt;dbl&gt; | avgdeaths_last7 &lt;dbl&gt; | avgratedeaths_last7 &lt;dbl&gt; | raterecovered &lt;dbl&gt; |\n",
       "|---|---|---|---|---|---|---|---|---|---|---|---|---|---|---|---|---|---|---|---|---|\n",
       "| 59 | British Columbia | Colombie-Britannique | 2020-03-11 | NA | 39 | 0 | 1 | 39 | 4373 | ⋯ | NA | NA | NA | NA | NA | NA | NA | NA | NA | 0 |\n",
       "| 48 | Alberta          | Alberta              | 2020-03-11 | NA | 14 | 0 | 0 | 14 | 1969 | ⋯ | NA | NA | NA | NA | NA | NA | NA | NA | NA | 0 |\n",
       "| 47 | Saskatchewan     | Saskatchewan         | 2020-03-11 | NA |  0 | 0 | 0 |  0 |  204 | ⋯ | NA | NA | NA | NA | NA | NA | NA | NA | NA | 0 |\n",
       "| 46 | Manitoba         | Manitoba             | 2020-03-11 | NA |  0 | 0 | 0 |  0 |  352 | ⋯ | NA | NA | NA | NA | NA | NA | NA | NA | NA | 0 |\n",
       "| 35 | Ontario          | Ontario              | 2020-03-11 | NA | 42 | 0 | 1 | 42 | 3394 | ⋯ | NA | NA | NA | NA | NA | NA | NA | NA | NA | 0 |\n",
       "| 24 | Quebec           | Québec               | 2020-03-11 | NA |  7 | 0 | 0 |  7 |  556 | ⋯ | NA | NA | NA | NA | NA | NA | NA | NA | NA | 0 |\n",
       "\n"
      ],
      "text/plain": [
       "  pruid prname           prnameFR             date       update numconf numprob\n",
       "1 59    British Columbia Colombie-Britannique 2020-03-11 NA     39      0      \n",
       "2 48    Alberta          Alberta              2020-03-11 NA     14      0      \n",
       "3 47    Saskatchewan     Saskatchewan         2020-03-11 NA      0      0      \n",
       "4 46    Manitoba         Manitoba             2020-03-11 NA      0      0      \n",
       "5 35    Ontario          Ontario              2020-03-11 NA     42      0      \n",
       "6 24    Quebec           Québec               2020-03-11 NA      7      0      \n",
       "  numdeaths numtotal numtested ⋯ ratedeaths_last14 numtotal_last7\n",
       "1 1         39       4373      ⋯ NA                NA            \n",
       "2 0         14       1969      ⋯ NA                NA            \n",
       "3 0          0        204      ⋯ NA                NA            \n",
       "4 0          0        352      ⋯ NA                NA            \n",
       "5 1         42       3394      ⋯ NA                NA            \n",
       "6 0          7        556      ⋯ NA                NA            \n",
       "  ratetotal_last7 numdeaths_last7 ratedeaths_last7 avgtotal_last7\n",
       "1 NA              NA              NA               NA            \n",
       "2 NA              NA              NA               NA            \n",
       "3 NA              NA              NA               NA            \n",
       "4 NA              NA              NA               NA            \n",
       "5 NA              NA              NA               NA            \n",
       "6 NA              NA              NA               NA            \n",
       "  avgincidence_last7 avgdeaths_last7 avgratedeaths_last7 raterecovered\n",
       "1 NA                 NA              NA                  0            \n",
       "2 NA                 NA              NA                  0            \n",
       "3 NA                 NA              NA                  0            \n",
       "4 NA                 NA              NA                  0            \n",
       "5 NA                 NA              NA                  0            \n",
       "6 NA                 NA              NA                  0            "
      ]
     },
     "metadata": {},
     "output_type": "display_data"
    }
   ],
   "source": [
    "#filtering the dataset to get strictly provicincal observations in our dataset\n",
    "provinces = c('Ontario','British Columbia','Quebec','Alberta',\n",
    "              'Saskatchewan','Manitoba','New Brunswick','Newfoundland and Labrador',\n",
    "              'Nova Scotia','Prince Edward Island','Northwest Territories','Nunavut','Yukon')\n",
    "\n",
    "covid = covid  %>% \n",
    "    filter(prname %in% provinces)  %>% \n",
    "    filter(!is.na(numtested))\n",
    "head(covid)"
   ]
  },
  {
   "cell_type": "code",
   "execution_count": 6,
   "metadata": {},
   "outputs": [
    {
     "data": {
      "text/html": [
       "<table>\n",
       "<caption>A tibble: 6 × 7</caption>\n",
       "<thead>\n",
       "\t<tr><th scope=col>prname</th><th scope=col>date</th><th scope=col>numconf</th><th scope=col>numdeaths</th><th scope=col>numtested</th><th scope=col>numtoday</th><th scope=col>ratetotal</th></tr>\n",
       "\t<tr><th scope=col>&lt;chr&gt;</th><th scope=col>&lt;date&gt;</th><th scope=col>&lt;dbl&gt;</th><th scope=col>&lt;dbl&gt;</th><th scope=col>&lt;dbl&gt;</th><th scope=col>&lt;dbl&gt;</th><th scope=col>&lt;dbl&gt;</th></tr>\n",
       "</thead>\n",
       "<tbody>\n",
       "\t<tr><td>British Columbia</td><td>2020-03-11</td><td>39</td><td>1</td><td>4373</td><td>7</td><td>0.76</td></tr>\n",
       "\t<tr><td>Alberta         </td><td>2020-03-11</td><td>14</td><td>0</td><td>1969</td><td>7</td><td>0.32</td></tr>\n",
       "\t<tr><td>Saskatchewan    </td><td>2020-03-11</td><td> 0</td><td>0</td><td> 204</td><td>0</td><td>0.00</td></tr>\n",
       "\t<tr><td>Manitoba        </td><td>2020-03-11</td><td> 0</td><td>0</td><td> 352</td><td>0</td><td>0.00</td></tr>\n",
       "\t<tr><td>Ontario         </td><td>2020-03-11</td><td>42</td><td>1</td><td>3394</td><td>8</td><td>0.29</td></tr>\n",
       "\t<tr><td>Quebec          </td><td>2020-03-11</td><td> 7</td><td>0</td><td> 556</td><td>3</td><td>0.08</td></tr>\n",
       "</tbody>\n",
       "</table>\n"
      ],
      "text/latex": [
       "A tibble: 6 × 7\n",
       "\\begin{tabular}{lllllll}\n",
       " prname & date & numconf & numdeaths & numtested & numtoday & ratetotal\\\\\n",
       " <chr> & <date> & <dbl> & <dbl> & <dbl> & <dbl> & <dbl>\\\\\n",
       "\\hline\n",
       "\t British Columbia & 2020-03-11 & 39 & 1 & 4373 & 7 & 0.76\\\\\n",
       "\t Alberta          & 2020-03-11 & 14 & 0 & 1969 & 7 & 0.32\\\\\n",
       "\t Saskatchewan     & 2020-03-11 &  0 & 0 &  204 & 0 & 0.00\\\\\n",
       "\t Manitoba         & 2020-03-11 &  0 & 0 &  352 & 0 & 0.00\\\\\n",
       "\t Ontario          & 2020-03-11 & 42 & 1 & 3394 & 8 & 0.29\\\\\n",
       "\t Quebec           & 2020-03-11 &  7 & 0 &  556 & 3 & 0.08\\\\\n",
       "\\end{tabular}\n"
      ],
      "text/markdown": [
       "\n",
       "A tibble: 6 × 7\n",
       "\n",
       "| prname &lt;chr&gt; | date &lt;date&gt; | numconf &lt;dbl&gt; | numdeaths &lt;dbl&gt; | numtested &lt;dbl&gt; | numtoday &lt;dbl&gt; | ratetotal &lt;dbl&gt; |\n",
       "|---|---|---|---|---|---|---|\n",
       "| British Columbia | 2020-03-11 | 39 | 1 | 4373 | 7 | 0.76 |\n",
       "| Alberta          | 2020-03-11 | 14 | 0 | 1969 | 7 | 0.32 |\n",
       "| Saskatchewan     | 2020-03-11 |  0 | 0 |  204 | 0 | 0.00 |\n",
       "| Manitoba         | 2020-03-11 |  0 | 0 |  352 | 0 | 0.00 |\n",
       "| Ontario          | 2020-03-11 | 42 | 1 | 3394 | 8 | 0.29 |\n",
       "| Quebec           | 2020-03-11 |  7 | 0 |  556 | 3 | 0.08 |\n",
       "\n"
      ],
      "text/plain": [
       "  prname           date       numconf numdeaths numtested numtoday ratetotal\n",
       "1 British Columbia 2020-03-11 39      1         4373      7        0.76     \n",
       "2 Alberta          2020-03-11 14      0         1969      7        0.32     \n",
       "3 Saskatchewan     2020-03-11  0      0          204      0        0.00     \n",
       "4 Manitoba         2020-03-11  0      0          352      0        0.00     \n",
       "5 Ontario          2020-03-11 42      1         3394      8        0.29     \n",
       "6 Quebec           2020-03-11  7      0          556      3        0.08     "
      ]
     },
     "metadata": {},
     "output_type": "display_data"
    }
   ],
   "source": [
    "#we will now select the columns we would like to work with\n",
    "covid_selected = covid  %>%\n",
    "    select(c(prname, date, numconf, numdeaths, numtested, numtoday,ratetotal))\n",
    "head(covid_selected)"
   ]
  },
  {
   "cell_type": "code",
   "execution_count": 7,
   "metadata": {},
   "outputs": [
    {
     "data": {
      "text/html": [
       "<table>\n",
       "<caption>A tibble: 6 × 7</caption>\n",
       "<thead>\n",
       "\t<tr><th scope=col>prname</th><th scope=col>date</th><th scope=col>numconf</th><th scope=col>numdeaths</th><th scope=col>numtested</th><th scope=col>numtoday</th><th scope=col>ratetotal</th></tr>\n",
       "\t<tr><th scope=col>&lt;chr&gt;</th><th scope=col>&lt;date&gt;</th><th scope=col>&lt;dbl&gt;</th><th scope=col>&lt;dbl&gt;</th><th scope=col>&lt;dbl&gt;</th><th scope=col>&lt;dbl&gt;</th><th scope=col>&lt;dbl&gt;</th></tr>\n",
       "</thead>\n",
       "<tbody>\n",
       "\t<tr><td>British Columbia</td><td>2020-03-11</td><td>39</td><td>1</td><td>4373</td><td>7</td><td>0.76</td></tr>\n",
       "\t<tr><td>Alberta         </td><td>2020-03-11</td><td>14</td><td>0</td><td>1969</td><td>7</td><td>0.32</td></tr>\n",
       "\t<tr><td>Saskatchewan    </td><td>2020-03-11</td><td> 0</td><td>0</td><td> 204</td><td>0</td><td>0.00</td></tr>\n",
       "\t<tr><td>Manitoba        </td><td>2020-03-11</td><td> 0</td><td>0</td><td> 352</td><td>0</td><td>0.00</td></tr>\n",
       "\t<tr><td>Ontario         </td><td>2020-03-11</td><td>42</td><td>1</td><td>3394</td><td>8</td><td>0.29</td></tr>\n",
       "\t<tr><td>Quebec          </td><td>2020-03-11</td><td> 7</td><td>0</td><td> 556</td><td>3</td><td>0.08</td></tr>\n",
       "</tbody>\n",
       "</table>\n"
      ],
      "text/latex": [
       "A tibble: 6 × 7\n",
       "\\begin{tabular}{lllllll}\n",
       " prname & date & numconf & numdeaths & numtested & numtoday & ratetotal\\\\\n",
       " <chr> & <date> & <dbl> & <dbl> & <dbl> & <dbl> & <dbl>\\\\\n",
       "\\hline\n",
       "\t British Columbia & 2020-03-11 & 39 & 1 & 4373 & 7 & 0.76\\\\\n",
       "\t Alberta          & 2020-03-11 & 14 & 0 & 1969 & 7 & 0.32\\\\\n",
       "\t Saskatchewan     & 2020-03-11 &  0 & 0 &  204 & 0 & 0.00\\\\\n",
       "\t Manitoba         & 2020-03-11 &  0 & 0 &  352 & 0 & 0.00\\\\\n",
       "\t Ontario          & 2020-03-11 & 42 & 1 & 3394 & 8 & 0.29\\\\\n",
       "\t Quebec           & 2020-03-11 &  7 & 0 &  556 & 3 & 0.08\\\\\n",
       "\\end{tabular}\n"
      ],
      "text/markdown": [
       "\n",
       "A tibble: 6 × 7\n",
       "\n",
       "| prname &lt;chr&gt; | date &lt;date&gt; | numconf &lt;dbl&gt; | numdeaths &lt;dbl&gt; | numtested &lt;dbl&gt; | numtoday &lt;dbl&gt; | ratetotal &lt;dbl&gt; |\n",
       "|---|---|---|---|---|---|---|\n",
       "| British Columbia | 2020-03-11 | 39 | 1 | 4373 | 7 | 0.76 |\n",
       "| Alberta          | 2020-03-11 | 14 | 0 | 1969 | 7 | 0.32 |\n",
       "| Saskatchewan     | 2020-03-11 |  0 | 0 |  204 | 0 | 0.00 |\n",
       "| Manitoba         | 2020-03-11 |  0 | 0 |  352 | 0 | 0.00 |\n",
       "| Ontario          | 2020-03-11 | 42 | 1 | 3394 | 8 | 0.29 |\n",
       "| Quebec           | 2020-03-11 |  7 | 0 |  556 | 3 | 0.08 |\n",
       "\n"
      ],
      "text/plain": [
       "  prname           date       numconf numdeaths numtested numtoday ratetotal\n",
       "1 British Columbia 2020-03-11 39      1         4373      7        0.76     \n",
       "2 Alberta          2020-03-11 14      0         1969      7        0.32     \n",
       "3 Saskatchewan     2020-03-11  0      0          204      0        0.00     \n",
       "4 Manitoba         2020-03-11  0      0          352      0        0.00     \n",
       "5 Ontario          2020-03-11 42      1         3394      8        0.29     \n",
       "6 Quebec           2020-03-11  7      0          556      3        0.08     "
      ]
     },
     "metadata": {},
     "output_type": "display_data"
    }
   ],
   "source": [
    "covid_selected$date <- as.Date(covid_selected$date)\n",
    "head(covid_selected)"
   ]
  },
  {
   "cell_type": "markdown",
   "metadata": {},
   "source": [
    "As we are comparing the timeline between confirmed cases to the holidays, we will categorize and filter our data according to canadian holidays"
   ]
  },
  {
   "cell_type": "code",
   "execution_count": 8,
   "metadata": {},
   "outputs": [
    {
     "name": "stderr",
     "output_type": "stream",
     "text": [
      "Parsed with column specification:\n",
      "cols(\n",
      "  date = \u001b[34mcol_date(format = \"\")\u001b[39m,\n",
      "  holiday = \u001b[31mcol_character()\u001b[39m\n",
      ")\n",
      "\n"
     ]
    },
    {
     "data": {
      "text/html": [
       "<table>\n",
       "<caption>A tibble: 6 × 2</caption>\n",
       "<thead>\n",
       "\t<tr><th scope=col>date</th><th scope=col>holiday</th></tr>\n",
       "\t<tr><th scope=col>&lt;date&gt;</th><th scope=col>&lt;chr&gt;</th></tr>\n",
       "</thead>\n",
       "<tbody>\n",
       "\t<tr><td>2012-01-02</td><td>New Year's Day</td></tr>\n",
       "\t<tr><td>2012-02-20</td><td>Family Day    </td></tr>\n",
       "\t<tr><td>2012-04-06</td><td>Good Friday   </td></tr>\n",
       "\t<tr><td>2012-05-21</td><td>Victoria Day  </td></tr>\n",
       "\t<tr><td>2012-07-02</td><td>Canada Day    </td></tr>\n",
       "\t<tr><td>2012-08-06</td><td>Civic Holiday </td></tr>\n",
       "</tbody>\n",
       "</table>\n"
      ],
      "text/latex": [
       "A tibble: 6 × 2\n",
       "\\begin{tabular}{ll}\n",
       " date & holiday\\\\\n",
       " <date> & <chr>\\\\\n",
       "\\hline\n",
       "\t 2012-01-02 & New Year's Day\\\\\n",
       "\t 2012-02-20 & Family Day    \\\\\n",
       "\t 2012-04-06 & Good Friday   \\\\\n",
       "\t 2012-05-21 & Victoria Day  \\\\\n",
       "\t 2012-07-02 & Canada Day    \\\\\n",
       "\t 2012-08-06 & Civic Holiday \\\\\n",
       "\\end{tabular}\n"
      ],
      "text/markdown": [
       "\n",
       "A tibble: 6 × 2\n",
       "\n",
       "| date &lt;date&gt; | holiday &lt;chr&gt; |\n",
       "|---|---|\n",
       "| 2012-01-02 | New Year's Day |\n",
       "| 2012-02-20 | Family Day     |\n",
       "| 2012-04-06 | Good Friday    |\n",
       "| 2012-05-21 | Victoria Day   |\n",
       "| 2012-07-02 | Canada Day     |\n",
       "| 2012-08-06 | Civic Holiday  |\n",
       "\n"
      ],
      "text/plain": [
       "  date       holiday       \n",
       "1 2012-01-02 New Year's Day\n",
       "2 2012-02-20 Family Day    \n",
       "3 2012-04-06 Good Friday   \n",
       "4 2012-05-21 Victoria Day  \n",
       "5 2012-07-02 Canada Day    \n",
       "6 2012-08-06 Civic Holiday "
      ]
     },
     "metadata": {},
     "output_type": "display_data"
    }
   ],
   "source": [
    "#we will use the University of Waterloo dataset to have a tibble of Canadian holidays\n",
    "cdn_holidays  <- read_csv(\"https://raw.githubusercontent.com/uWaterloo/Datasets/master/Holidays/holidays.csv\")\n",
    "head(cdn_holidays)"
   ]
  },
  {
   "cell_type": "code",
   "execution_count": 9,
   "metadata": {},
   "outputs": [
    {
     "ename": "ERROR",
     "evalue": "Error: Problem with `filter()` input `..1`.\n\u001b[31m✖\u001b[39m object 'covid_wrangled' not found\n\u001b[34mℹ\u001b[39m Input `..1` is `date >= min(covid_wrangled$date)`.\n",
     "output_type": "error",
     "traceback": [
      "Error: Problem with `filter()` input `..1`.\n\u001b[31m✖\u001b[39m object 'covid_wrangled' not found\n\u001b[34mℹ\u001b[39m Input `..1` is `date >= min(covid_wrangled$date)`.\nTraceback:\n",
      "1. cdn_holidays %>% filter(holiday %in% c(\"New Year's Day\", \"Good Friday\", \n .     \"Canada Day\", \"Labour Day\", \"Thanksgiving\", \"Christmas Day\")) %>% \n .     filter(date >= min(covid_wrangled$date), date <= max(covid_wrangled$date))",
      "2. withVisible(eval(quote(`_fseq`(`_lhs`)), env, env))",
      "3. eval(quote(`_fseq`(`_lhs`)), env, env)",
      "4. eval(quote(`_fseq`(`_lhs`)), env, env)",
      "5. `_fseq`(`_lhs`)",
      "6. freduce(value, `_function_list`)",
      "7. withVisible(function_list[[k]](value))",
      "8. function_list[[k]](value)",
      "9. filter(., date >= min(covid_wrangled$date), date <= max(covid_wrangled$date))",
      "10. filter.data.frame(., date >= min(covid_wrangled$date), date <= \n  .     max(covid_wrangled$date))",
      "11. filter_rows(.data, ...)",
      "12. withCallingHandlers(mask$eval_all_filter(dots, env_filter), error = function(e) {\n  .     local_call_step(dots = dots, .index = env_filter$current_expression, \n  .         .fn = \"filter\")\n  .     abort(c(cnd_bullet_header(), x = conditionMessage(e), i = cnd_bullet_input_info(), \n  .         i = cnd_bullet_cur_group_label()), class = \"dplyr_error\")\n  . })",
      "13. mask$eval_all_filter(dots, env_filter)",
      "14. .handleSimpleError(function (e) \n  . {\n  .     local_call_step(dots = dots, .index = env_filter$current_expression, \n  .         .fn = \"filter\")\n  .     abort(c(cnd_bullet_header(), x = conditionMessage(e), i = cnd_bullet_input_info(), \n  .         i = cnd_bullet_cur_group_label()), class = \"dplyr_error\")\n  . }, \"object 'covid_wrangled' not found\", base::quote(mask$eval_all_filter(dots, \n  .     env_filter)))",
      "15. h(simpleError(msg, call))",
      "16. abort(c(cnd_bullet_header(), x = conditionMessage(e), i = cnd_bullet_input_info(), \n  .     i = cnd_bullet_cur_group_label()), class = \"dplyr_error\")",
      "17. signal_abort(cnd)"
     ]
    }
   ],
   "source": [
    "#We will only consider Canadian public holidays within the date of the first observation \n",
    "# and last observation of the covid dataset\n",
    "\n",
    "public_holidays  <- cdn_holidays  %>% \n",
    "    filter(holiday %in% c(\"New Year's Day\", \"Good Friday\", \"Canada Day\", \n",
    "                          \"Labour Day\", \"Thanksgiving\", \"Christmas Day\"))  %>% \n",
    "    filter(date >= min(covid_wrangled$date), date <= max(covid_wrangled$date))\n",
    "                    \n",
    "public_holidays"
   ]
  },
  {
   "cell_type": "code",
   "execution_count": null,
   "metadata": {},
   "outputs": [],
   "source": [
    "#as mentioned from cdc.gov, symptoms may appear 2-14 days after first encounter\n",
    "#within the holidays dataframe, we would like to measure dates 2 weeks (14 days) after the holiday. \n",
    "#We will give a little room for celebrations celebrated close to the actual holiday (14 days will become 17 days).\n",
    "\n",
    "#likewise we will also add a column for a week in advance to the holiday.\n",
    "public_holiday_bound <- public_holidays  %>% \n",
    "    mutate(post_holiday = date + 17, pre_holiday = date - 7) \n",
    "\n",
    "public_holiday_bound"
   ]
  },
  {
   "cell_type": "code",
   "execution_count": null,
   "metadata": {},
   "outputs": [],
   "source": [
    "#holiday bounds\n",
    "pre_good_friday = ymd(public_holiday_bound$pre_holiday[public_holiday_bound$holiday == 'Good Friday'])\n",
    "pre_canada_day = ymd(public_holiday_bound$pre_holiday[public_holiday_bound$holiday == 'Canada Day'])\n",
    "pre_labour_day = ymd(public_holiday_bound$pre_holiday[public_holiday_bound$holiday == 'Labour Day'])\n",
    "pre_thanksgiving = ymd(public_holiday_bound$pre_holiday[public_holiday_bound$holiday == 'Thanksgiving'])\n",
    "pre_christmas = ymd(public_holiday_bound$pre_holiday[public_holiday_bound$holiday == 'Christmas Day'])\n",
    "pre_new_years = ymd(public_holiday_bound$pre_holiday[public_holiday_bound$holiday == \"New Year's Day\"])\n",
    "\n",
    "post_good_friday = ymd(public_holiday_bound$post_holiday[public_holiday_bound$holiday == 'Good Friday'])\n",
    "post_canada_day = ymd(public_holiday_bound$post_holiday[public_holiday_bound$holiday == 'Canada Day'])\n",
    "post_labour_day = ymd(public_holiday_bound$post_holiday[public_holiday_bound$holiday == 'Labour Day'])\n",
    "post_thanksgiving = ymd(public_holiday_bound$post_holiday[public_holiday_bound$holiday == 'Thanksgiving'])\n",
    "post_christmas = ymd(public_holiday_bound$post_holiday[public_holiday_bound$holiday == 'Christmas Day'])\n",
    "post_new_years = ymd(public_holiday_bound$post_holiday[public_holiday_bound$holiday == \"New Year's Day\"])\n",
    "\n",
    "good_friday = ymd(public_holiday_bound$date[public_holiday_bound$holiday == 'Good Friday'])\n",
    "canada_day = ymd(public_holiday_bound$date[public_holiday_bound$holiday == 'Canada Day'])\n",
    "labour_day = ymd(public_holiday_bound$date[public_holiday_bound$holiday == 'Labour Day'])\n",
    "thanksgiving = ymd(public_holiday_bound$date[public_holiday_bound$holiday == 'Thanksgiving'])\n",
    "christmas = ymd(public_holiday_bound$date[public_holiday_bound$holiday == 'Christmas Day'])\n",
    "new_years = ymd(public_holiday_bound$date[public_holiday_bound$holiday == \"New Year's Day\"])"
   ]
  },
  {
   "cell_type": "code",
   "execution_count": null,
   "metadata": {},
   "outputs": [],
   "source": [
    "#here we are binding the observation to the given holiday period\n",
    "covid_clean  <- covid_selected  %>%  \n",
    "    mutate(holiday = case_when(\n",
    "    (.$date >= pre_good_friday) & (.$date <= post_good_friday) ~ \"Good Friday\",\n",
    "    (.$date >= pre_canada_day) & (.$date <= post_canada_day) ~ \"Canada Day\",\n",
    "    (.$date >= pre_labour_day) & (.$date <= post_labour_day) ~ \"Labour Day\",\n",
    "    (.$date >= pre_thanksgiving) & (.$date <= post_thanksgiving) ~ \"Thanksgiving\", \n",
    "    (.$date >= pre_christmas) & (.$date <= post_christmas) ~ \"Christmas Day\",\n",
    "    (.$date >= pre_new_years) & (.$date <= post_new_years) ~ \"New Year's Day\"))  %>% \n",
    "    filter(!is.na(holiday))\n",
    "\n",
    "head(covid_clean)"
   ]
  },
  {
   "cell_type": "markdown",
   "metadata": {},
   "source": [
    "additionally we will add a column to find the proportion between number of confirmed cases to the number of tested individuals "
   ]
  },
  {
   "cell_type": "code",
   "execution_count": null,
   "metadata": {},
   "outputs": [],
   "source": [
    "#we add another category to identify if the observation is pre, post, or during the holiday\n",
    "covid_categorized  <- covid_clean  %>%  \n",
    "    mutate(category = case_when(\n",
    "    (.$date >= pre_good_friday) & (.$date < good_friday)  | \n",
    "    (.$date >= pre_canada_day) & (.$date < canada_day) |\n",
    "    (.$date >= pre_labour_day) & (.$date < labour_day) |\n",
    "    (.$date >= pre_thanksgiving) & (.$date < thanksgiving) |\n",
    "    (.$date >= pre_christmas) & (.$date < christmas) |\n",
    "    (.$date >= pre_new_years) & (.$date < new_years) ~ \"pre holiday\",\n",
    "    (.$date <= post_good_friday) & (.$date > good_friday)  | \n",
    "    (.$date <= post_canada_day) & (.$date > canada_day) |\n",
    "    (.$date <= post_labour_day) & (.$date > labour_day) |\n",
    "    (.$date <= post_thanksgiving) & (.$date > thanksgiving) |\n",
    "    (.$date <= post_christmas) & (.$date > christmas) |\n",
    "    (.$date <= post_new_years) & (.$date > new_years) ~ \"post holiday\",\n",
    "    (.$date == good_friday)  | \n",
    "    (.$date == canada_day) |\n",
    "    (.$date == labour_day) |\n",
    "    (.$date == thanksgiving) |\n",
    "    (.$date == christmas) |\n",
    "    (.$date == new_years) ~ \"during holiday\"))\n",
    "           \n",
    "head(covid_categorized)"
   ]
  },
  {
   "cell_type": "code",
   "execution_count": null,
   "metadata": {},
   "outputs": [],
   "source": [
    "covid_clean  <-  mutate(covid_categorized, propconfirmed = numconf / numtested)\n",
    "head(covid_clean)"
   ]
  },
  {
   "cell_type": "markdown",
   "metadata": {},
   "source": [
    "<h1> Methods <h1>"
   ]
  },
  {
   "cell_type": "markdown",
   "metadata": {},
   "source": []
  },
  {
   "cell_type": "markdown",
   "metadata": {},
   "source": [
    "The premise of this investigation is to assess whether public holidays in large Canadian provinces have a substantial impact on increasing daily proportions of positive tests. This report gives a strong foundation for the direction of further investigation. Visualizations of our data, alongside the calculated proportions, suggest an increase in proportions of daily confirmed cases post-holidays compared to pre-holiday populations. However, the visualizations and sample estimates above are strictly intended as an exploratory analysis. Further investigation, such as a hypothesis test, is needed to understand the relationships hidden behind the data rigorously. There is currently not enough statistical evidence to support this claim.\n",
    "\n",
    "We plan to deploy a bootstrap hypothesis test to assess our findings further. The dataset is substantially large enough for employing CLT; however, the data is constricted to a timespan of one year, with only a series of holidays. Therefore bootstrapping will enable us to represent further how our proportions can vary.  Furthermore, we will leverage the bootstrap samples to create a confidence interval to describe the difference in proportions between post and pre-holiday and assess whether the difference in proportions is statistically different. \n",
    "\n",
    "The further investigation of public holidays and the increase of daily cases may bring insight into the success of each provinces' restrictions. Discussion of our findings can further improve the response to future pandemics by informing policymakers and officials in planning public health strategies. Implementing case studies like COVID-19 responses within Canada can enhance the coordination and integration of public policies into everyday lives.\n",
    "\n",
    "\n"
   ]
  }
 ],
 "metadata": {
  "kernelspec": {
   "display_name": "R",
   "language": "R",
   "name": "ir"
  },
  "language_info": {
   "codemirror_mode": "r",
   "file_extension": ".r",
   "mimetype": "text/x-r-source",
   "name": "R",
   "pygments_lexer": "r",
   "version": "4.0.0"
  }
 },
 "nbformat": 4,
 "nbformat_minor": 4
}
