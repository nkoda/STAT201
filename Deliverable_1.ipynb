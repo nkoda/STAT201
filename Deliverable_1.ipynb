{
 "cells": [
  {
   "cell_type": "markdown",
   "metadata": {},
   "source": [
    "# Project Proposal: Case study analysis: Holidays in COVID-19  #\n",
    "\n",
    "Authors: Fares Burwag, Nikko Dumrique (63631204)"
   ]
  },
  {
   "cell_type": "code",
   "execution_count": 14,
   "metadata": {},
   "outputs": [
    {
     "name": "stderr",
     "output_type": "stream",
     "text": [
      "Updating HTML index of packages in '.Library'\n",
      "\n",
      "Making 'packages.html' ...\n",
      " done\n",
      "\n"
     ]
    }
   ],
   "source": [
    "install.packages(\"conflicted\")"
   ]
  },
  {
   "cell_type": "code",
   "execution_count": 2,
   "metadata": {
    "scrolled": true
   },
   "outputs": [
    {
     "name": "stderr",
     "output_type": "stream",
     "text": [
      "── \u001b[1mAttaching packages\u001b[22m ─────────────────────────────────────── tidyverse 1.3.0 ──\n",
      "\n",
      "\u001b[32m✔\u001b[39m \u001b[34mggplot2\u001b[39m 3.3.2     \u001b[32m✔\u001b[39m \u001b[34mpurrr  \u001b[39m 0.3.4\n",
      "\u001b[32m✔\u001b[39m \u001b[34mtibble \u001b[39m 3.0.3     \u001b[32m✔\u001b[39m \u001b[34mdplyr  \u001b[39m 1.0.2\n",
      "\u001b[32m✔\u001b[39m \u001b[34mtidyr  \u001b[39m 1.1.1     \u001b[32m✔\u001b[39m \u001b[34mstringr\u001b[39m 1.4.0\n",
      "\u001b[32m✔\u001b[39m \u001b[34mreadr  \u001b[39m 1.3.1     \u001b[32m✔\u001b[39m \u001b[34mforcats\u001b[39m 0.5.0\n",
      "\n",
      "Warning message:\n",
      "“package ‘ggplot2’ was built under R version 4.0.1”\n",
      "Warning message:\n",
      "“package ‘tibble’ was built under R version 4.0.2”\n",
      "Warning message:\n",
      "“package ‘tidyr’ was built under R version 4.0.2”\n",
      "Warning message:\n",
      "“package ‘dplyr’ was built under R version 4.0.2”\n",
      "── \u001b[1mConflicts\u001b[22m ────────────────────────────────────────── tidyverse_conflicts() ──\n",
      "\u001b[31m✖\u001b[39m \u001b[34mdplyr\u001b[39m::\u001b[32mfilter()\u001b[39m masks \u001b[34mstats\u001b[39m::filter()\n",
      "\u001b[31m✖\u001b[39m \u001b[34mdplyr\u001b[39m::\u001b[32mlag()\u001b[39m    masks \u001b[34mstats\u001b[39m::lag()\n",
      "\n",
      "Warning message:\n",
      "“package ‘infer’ was built under R version 4.0.2”\n",
      "\n",
      "Attaching package: ‘gridExtra’\n",
      "\n",
      "\n",
      "The following object is masked from ‘package:dplyr’:\n",
      "\n",
      "    combine\n",
      "\n",
      "\n",
      "\n",
      "********************************************************\n",
      "\n",
      "Note: As of version 1.0.0, cowplot does not change the\n",
      "\n",
      "  default ggplot2 theme anymore. To recover the previous\n",
      "\n",
      "  behavior, execute:\n",
      "  theme_set(theme_cowplot())\n",
      "\n",
      "********************************************************\n",
      "\n",
      "\n"
     ]
    }
   ],
   "source": [
    "library(tidyverse)\n",
    "library(repr)\n",
    "library(datateachr)\n",
    "library(digest)\n",
    "library(infer)\n",
    "library(gridExtra)\n",
    "library(cowplot)\n",
    "library(dplyr)\n",
    "library(conflicted)\n",
    "library(lubridate)"
   ]
  },
  {
   "cell_type": "code",
   "execution_count": 3,
   "metadata": {},
   "outputs": [
    {
     "name": "stderr",
     "output_type": "stream",
     "text": [
      "[conflicted] Will prefer \u001b[34mdplyr::select\u001b[39m over any other package\n",
      "\n",
      "[conflicted] Will prefer \u001b[34mdplyr::filter\u001b[39m over any other package\n",
      "\n"
     ]
    }
   ],
   "source": [
    "conflict_prefer(\"select\", \"dplyr\")\n",
    "conflict_prefer(\"filter\", \"dplyr\")"
   ]
  },
  {
   "cell_type": "markdown",
   "metadata": {},
   "source": [
    "## Data Wrangling ##"
   ]
  },
  {
   "cell_type": "code",
   "execution_count": 4,
   "metadata": {},
   "outputs": [
    {
     "data": {
      "text/html": [
       "<table>\n",
       "<caption>A data.frame: 6 × 40</caption>\n",
       "<thead>\n",
       "\t<tr><th></th><th scope=col>pruid</th><th scope=col>prname</th><th scope=col>prnameFR</th><th scope=col>date</th><th scope=col>update</th><th scope=col>numconf</th><th scope=col>numprob</th><th scope=col>numdeaths</th><th scope=col>numtotal</th><th scope=col>numtested</th><th scope=col>⋯</th><th scope=col>ratedeaths_last14</th><th scope=col>numtotal_last7</th><th scope=col>ratetotal_last7</th><th scope=col>numdeaths_last7</th><th scope=col>ratedeaths_last7</th><th scope=col>avgtotal_last7</th><th scope=col>avgincidence_last7</th><th scope=col>avgdeaths_last7</th><th scope=col>avgratedeaths_last7</th><th scope=col>raterecovered</th></tr>\n",
       "\t<tr><th></th><th scope=col>&lt;int&gt;</th><th scope=col>&lt;chr&gt;</th><th scope=col>&lt;chr&gt;</th><th scope=col>&lt;chr&gt;</th><th scope=col>&lt;int&gt;</th><th scope=col>&lt;int&gt;</th><th scope=col>&lt;int&gt;</th><th scope=col>&lt;int&gt;</th><th scope=col>&lt;int&gt;</th><th scope=col>&lt;int&gt;</th><th scope=col>⋯</th><th scope=col>&lt;dbl&gt;</th><th scope=col>&lt;int&gt;</th><th scope=col>&lt;dbl&gt;</th><th scope=col>&lt;int&gt;</th><th scope=col>&lt;dbl&gt;</th><th scope=col>&lt;int&gt;</th><th scope=col>&lt;dbl&gt;</th><th scope=col>&lt;int&gt;</th><th scope=col>&lt;dbl&gt;</th><th scope=col>&lt;dbl&gt;</th></tr>\n",
       "</thead>\n",
       "<tbody>\n",
       "\t<tr><th scope=row>1</th><td>35</td><td>Ontario         </td><td>Ontario             </td><td>2020-01-31</td><td>NA</td><td>3</td><td>0</td><td>0</td><td>3</td><td>NA</td><td>⋯</td><td>NA</td><td>NA</td><td>NA</td><td>NA</td><td>NA</td><td>NA</td><td>NA</td><td>NA</td><td>NA</td><td>0</td></tr>\n",
       "\t<tr><th scope=row>2</th><td>59</td><td>British Columbia</td><td>Colombie-Britannique</td><td>2020-01-31</td><td>NA</td><td>1</td><td>0</td><td>0</td><td>1</td><td>NA</td><td>⋯</td><td>NA</td><td>NA</td><td>NA</td><td>NA</td><td>NA</td><td>NA</td><td>NA</td><td>NA</td><td>NA</td><td>0</td></tr>\n",
       "\t<tr><th scope=row>3</th><td> 1</td><td>Canada          </td><td>Canada              </td><td>2020-01-31</td><td>NA</td><td>4</td><td>0</td><td>0</td><td>4</td><td>NA</td><td>⋯</td><td>NA</td><td>NA</td><td>NA</td><td>NA</td><td>NA</td><td>NA</td><td>NA</td><td>NA</td><td>NA</td><td>0</td></tr>\n",
       "\t<tr><th scope=row>4</th><td>35</td><td>Ontario         </td><td>Ontario             </td><td>2020-02-08</td><td>NA</td><td>3</td><td>0</td><td>0</td><td>3</td><td>NA</td><td>⋯</td><td>NA</td><td>NA</td><td>NA</td><td>NA</td><td>NA</td><td>NA</td><td>NA</td><td>NA</td><td>NA</td><td>0</td></tr>\n",
       "\t<tr><th scope=row>5</th><td>59</td><td>British Columbia</td><td>Colombie-Britannique</td><td>2020-02-08</td><td>NA</td><td>4</td><td>0</td><td>0</td><td>4</td><td>NA</td><td>⋯</td><td>NA</td><td>NA</td><td>NA</td><td>NA</td><td>NA</td><td>NA</td><td>NA</td><td>NA</td><td>NA</td><td>0</td></tr>\n",
       "\t<tr><th scope=row>6</th><td> 1</td><td>Canada          </td><td>Canada              </td><td>2020-02-08</td><td>NA</td><td>7</td><td>0</td><td>0</td><td>7</td><td>NA</td><td>⋯</td><td>NA</td><td>NA</td><td>NA</td><td>NA</td><td>NA</td><td>NA</td><td>NA</td><td>NA</td><td>NA</td><td>0</td></tr>\n",
       "</tbody>\n",
       "</table>\n"
      ],
      "text/latex": [
       "A data.frame: 6 × 40\n",
       "\\begin{tabular}{r|lllllllllllllllllllll}\n",
       "  & pruid & prname & prnameFR & date & update & numconf & numprob & numdeaths & numtotal & numtested & ⋯ & ratedeaths\\_last14 & numtotal\\_last7 & ratetotal\\_last7 & numdeaths\\_last7 & ratedeaths\\_last7 & avgtotal\\_last7 & avgincidence\\_last7 & avgdeaths\\_last7 & avgratedeaths\\_last7 & raterecovered\\\\\n",
       "  & <int> & <chr> & <chr> & <chr> & <int> & <int> & <int> & <int> & <int> & <int> & ⋯ & <dbl> & <int> & <dbl> & <int> & <dbl> & <int> & <dbl> & <int> & <dbl> & <dbl>\\\\\n",
       "\\hline\n",
       "\t1 & 35 & Ontario          & Ontario              & 2020-01-31 & NA & 3 & 0 & 0 & 3 & NA & ⋯ & NA & NA & NA & NA & NA & NA & NA & NA & NA & 0\\\\\n",
       "\t2 & 59 & British Columbia & Colombie-Britannique & 2020-01-31 & NA & 1 & 0 & 0 & 1 & NA & ⋯ & NA & NA & NA & NA & NA & NA & NA & NA & NA & 0\\\\\n",
       "\t3 &  1 & Canada           & Canada               & 2020-01-31 & NA & 4 & 0 & 0 & 4 & NA & ⋯ & NA & NA & NA & NA & NA & NA & NA & NA & NA & 0\\\\\n",
       "\t4 & 35 & Ontario          & Ontario              & 2020-02-08 & NA & 3 & 0 & 0 & 3 & NA & ⋯ & NA & NA & NA & NA & NA & NA & NA & NA & NA & 0\\\\\n",
       "\t5 & 59 & British Columbia & Colombie-Britannique & 2020-02-08 & NA & 4 & 0 & 0 & 4 & NA & ⋯ & NA & NA & NA & NA & NA & NA & NA & NA & NA & 0\\\\\n",
       "\t6 &  1 & Canada           & Canada               & 2020-02-08 & NA & 7 & 0 & 0 & 7 & NA & ⋯ & NA & NA & NA & NA & NA & NA & NA & NA & NA & 0\\\\\n",
       "\\end{tabular}\n"
      ],
      "text/markdown": [
       "\n",
       "A data.frame: 6 × 40\n",
       "\n",
       "| <!--/--> | pruid &lt;int&gt; | prname &lt;chr&gt; | prnameFR &lt;chr&gt; | date &lt;chr&gt; | update &lt;int&gt; | numconf &lt;int&gt; | numprob &lt;int&gt; | numdeaths &lt;int&gt; | numtotal &lt;int&gt; | numtested &lt;int&gt; | ⋯ ⋯ | ratedeaths_last14 &lt;dbl&gt; | numtotal_last7 &lt;int&gt; | ratetotal_last7 &lt;dbl&gt; | numdeaths_last7 &lt;int&gt; | ratedeaths_last7 &lt;dbl&gt; | avgtotal_last7 &lt;int&gt; | avgincidence_last7 &lt;dbl&gt; | avgdeaths_last7 &lt;int&gt; | avgratedeaths_last7 &lt;dbl&gt; | raterecovered &lt;dbl&gt; |\n",
       "|---|---|---|---|---|---|---|---|---|---|---|---|---|---|---|---|---|---|---|---|---|---|\n",
       "| 1 | 35 | Ontario          | Ontario              | 2020-01-31 | NA | 3 | 0 | 0 | 3 | NA | ⋯ | NA | NA | NA | NA | NA | NA | NA | NA | NA | 0 |\n",
       "| 2 | 59 | British Columbia | Colombie-Britannique | 2020-01-31 | NA | 1 | 0 | 0 | 1 | NA | ⋯ | NA | NA | NA | NA | NA | NA | NA | NA | NA | 0 |\n",
       "| 3 |  1 | Canada           | Canada               | 2020-01-31 | NA | 4 | 0 | 0 | 4 | NA | ⋯ | NA | NA | NA | NA | NA | NA | NA | NA | NA | 0 |\n",
       "| 4 | 35 | Ontario          | Ontario              | 2020-02-08 | NA | 3 | 0 | 0 | 3 | NA | ⋯ | NA | NA | NA | NA | NA | NA | NA | NA | NA | 0 |\n",
       "| 5 | 59 | British Columbia | Colombie-Britannique | 2020-02-08 | NA | 4 | 0 | 0 | 4 | NA | ⋯ | NA | NA | NA | NA | NA | NA | NA | NA | NA | 0 |\n",
       "| 6 |  1 | Canada           | Canada               | 2020-02-08 | NA | 7 | 0 | 0 | 7 | NA | ⋯ | NA | NA | NA | NA | NA | NA | NA | NA | NA | 0 |\n",
       "\n"
      ],
      "text/plain": [
       "  pruid prname           prnameFR             date       update numconf numprob\n",
       "1 35    Ontario          Ontario              2020-01-31 NA     3       0      \n",
       "2 59    British Columbia Colombie-Britannique 2020-01-31 NA     1       0      \n",
       "3  1    Canada           Canada               2020-01-31 NA     4       0      \n",
       "4 35    Ontario          Ontario              2020-02-08 NA     3       0      \n",
       "5 59    British Columbia Colombie-Britannique 2020-02-08 NA     4       0      \n",
       "6  1    Canada           Canada               2020-02-08 NA     7       0      \n",
       "  numdeaths numtotal numtested ⋯ ratedeaths_last14 numtotal_last7\n",
       "1 0         3        NA        ⋯ NA                NA            \n",
       "2 0         1        NA        ⋯ NA                NA            \n",
       "3 0         4        NA        ⋯ NA                NA            \n",
       "4 0         3        NA        ⋯ NA                NA            \n",
       "5 0         4        NA        ⋯ NA                NA            \n",
       "6 0         7        NA        ⋯ NA                NA            \n",
       "  ratetotal_last7 numdeaths_last7 ratedeaths_last7 avgtotal_last7\n",
       "1 NA              NA              NA               NA            \n",
       "2 NA              NA              NA               NA            \n",
       "3 NA              NA              NA               NA            \n",
       "4 NA              NA              NA               NA            \n",
       "5 NA              NA              NA               NA            \n",
       "6 NA              NA              NA               NA            \n",
       "  avgincidence_last7 avgdeaths_last7 avgratedeaths_last7 raterecovered\n",
       "1 NA                 NA              NA                  0            \n",
       "2 NA                 NA              NA                  0            \n",
       "3 NA                 NA              NA                  0            \n",
       "4 NA                 NA              NA                  0            \n",
       "5 NA                 NA              NA                  0            \n",
       "6 NA                 NA              NA                  0            "
      ]
     },
     "metadata": {},
     "output_type": "display_data"
    }
   ],
   "source": [
    "#reading public covid-19 data from https://health-infobase.canada.ca\n",
    "covid <- read.csv(\"https://health-infobase.canada.ca/src/data/covidLive/covid19-download.csv\")\n",
    "head(covid)"
   ]
  },
  {
   "cell_type": "markdown",
   "metadata": {},
   "source": [
    "we would like to localize the datatset to canadian provinces and territories, therefore we will remove prnames that are not one of the provinces/territories. Additionally would like to remove the observations with numtested == NA. "
   ]
  },
  {
   "cell_type": "code",
   "execution_count": 5,
   "metadata": {},
   "outputs": [
    {
     "data": {
      "text/html": [
       "<table>\n",
       "<caption>A data.frame: 6 × 40</caption>\n",
       "<thead>\n",
       "\t<tr><th></th><th scope=col>pruid</th><th scope=col>prname</th><th scope=col>prnameFR</th><th scope=col>date</th><th scope=col>update</th><th scope=col>numconf</th><th scope=col>numprob</th><th scope=col>numdeaths</th><th scope=col>numtotal</th><th scope=col>numtested</th><th scope=col>⋯</th><th scope=col>ratedeaths_last14</th><th scope=col>numtotal_last7</th><th scope=col>ratetotal_last7</th><th scope=col>numdeaths_last7</th><th scope=col>ratedeaths_last7</th><th scope=col>avgtotal_last7</th><th scope=col>avgincidence_last7</th><th scope=col>avgdeaths_last7</th><th scope=col>avgratedeaths_last7</th><th scope=col>raterecovered</th></tr>\n",
       "\t<tr><th></th><th scope=col>&lt;int&gt;</th><th scope=col>&lt;chr&gt;</th><th scope=col>&lt;chr&gt;</th><th scope=col>&lt;chr&gt;</th><th scope=col>&lt;int&gt;</th><th scope=col>&lt;int&gt;</th><th scope=col>&lt;int&gt;</th><th scope=col>&lt;int&gt;</th><th scope=col>&lt;int&gt;</th><th scope=col>&lt;int&gt;</th><th scope=col>⋯</th><th scope=col>&lt;dbl&gt;</th><th scope=col>&lt;int&gt;</th><th scope=col>&lt;dbl&gt;</th><th scope=col>&lt;int&gt;</th><th scope=col>&lt;dbl&gt;</th><th scope=col>&lt;int&gt;</th><th scope=col>&lt;dbl&gt;</th><th scope=col>&lt;int&gt;</th><th scope=col>&lt;dbl&gt;</th><th scope=col>&lt;dbl&gt;</th></tr>\n",
       "</thead>\n",
       "<tbody>\n",
       "\t<tr><th scope=row>1</th><td>59</td><td>British Columbia</td><td>Colombie-Britannique</td><td>2020-03-11</td><td>NA</td><td>39</td><td>0</td><td>1</td><td>39</td><td>4373</td><td>⋯</td><td>NA</td><td>NA</td><td>NA</td><td>NA</td><td>NA</td><td>NA</td><td>NA</td><td>NA</td><td>NA</td><td>0</td></tr>\n",
       "\t<tr><th scope=row>2</th><td>48</td><td>Alberta         </td><td>Alberta             </td><td>2020-03-11</td><td>NA</td><td>14</td><td>0</td><td>0</td><td>14</td><td>1969</td><td>⋯</td><td>NA</td><td>NA</td><td>NA</td><td>NA</td><td>NA</td><td>NA</td><td>NA</td><td>NA</td><td>NA</td><td>0</td></tr>\n",
       "\t<tr><th scope=row>3</th><td>47</td><td>Saskatchewan    </td><td>Saskatchewan        </td><td>2020-03-11</td><td>NA</td><td> 0</td><td>0</td><td>0</td><td> 0</td><td> 204</td><td>⋯</td><td>NA</td><td>NA</td><td>NA</td><td>NA</td><td>NA</td><td>NA</td><td>NA</td><td>NA</td><td>NA</td><td>0</td></tr>\n",
       "\t<tr><th scope=row>4</th><td>46</td><td>Manitoba        </td><td>Manitoba            </td><td>2020-03-11</td><td>NA</td><td> 0</td><td>0</td><td>0</td><td> 0</td><td> 352</td><td>⋯</td><td>NA</td><td>NA</td><td>NA</td><td>NA</td><td>NA</td><td>NA</td><td>NA</td><td>NA</td><td>NA</td><td>0</td></tr>\n",
       "\t<tr><th scope=row>5</th><td>35</td><td>Ontario         </td><td>Ontario             </td><td>2020-03-11</td><td>NA</td><td>42</td><td>0</td><td>1</td><td>42</td><td>3394</td><td>⋯</td><td>NA</td><td>NA</td><td>NA</td><td>NA</td><td>NA</td><td>NA</td><td>NA</td><td>NA</td><td>NA</td><td>0</td></tr>\n",
       "\t<tr><th scope=row>6</th><td>24</td><td>Quebec          </td><td>Québec              </td><td>2020-03-11</td><td>NA</td><td> 7</td><td>0</td><td>0</td><td> 7</td><td> 556</td><td>⋯</td><td>NA</td><td>NA</td><td>NA</td><td>NA</td><td>NA</td><td>NA</td><td>NA</td><td>NA</td><td>NA</td><td>0</td></tr>\n",
       "</tbody>\n",
       "</table>\n"
      ],
      "text/latex": [
       "A data.frame: 6 × 40\n",
       "\\begin{tabular}{r|lllllllllllllllllllll}\n",
       "  & pruid & prname & prnameFR & date & update & numconf & numprob & numdeaths & numtotal & numtested & ⋯ & ratedeaths\\_last14 & numtotal\\_last7 & ratetotal\\_last7 & numdeaths\\_last7 & ratedeaths\\_last7 & avgtotal\\_last7 & avgincidence\\_last7 & avgdeaths\\_last7 & avgratedeaths\\_last7 & raterecovered\\\\\n",
       "  & <int> & <chr> & <chr> & <chr> & <int> & <int> & <int> & <int> & <int> & <int> & ⋯ & <dbl> & <int> & <dbl> & <int> & <dbl> & <int> & <dbl> & <int> & <dbl> & <dbl>\\\\\n",
       "\\hline\n",
       "\t1 & 59 & British Columbia & Colombie-Britannique & 2020-03-11 & NA & 39 & 0 & 1 & 39 & 4373 & ⋯ & NA & NA & NA & NA & NA & NA & NA & NA & NA & 0\\\\\n",
       "\t2 & 48 & Alberta          & Alberta              & 2020-03-11 & NA & 14 & 0 & 0 & 14 & 1969 & ⋯ & NA & NA & NA & NA & NA & NA & NA & NA & NA & 0\\\\\n",
       "\t3 & 47 & Saskatchewan     & Saskatchewan         & 2020-03-11 & NA &  0 & 0 & 0 &  0 &  204 & ⋯ & NA & NA & NA & NA & NA & NA & NA & NA & NA & 0\\\\\n",
       "\t4 & 46 & Manitoba         & Manitoba             & 2020-03-11 & NA &  0 & 0 & 0 &  0 &  352 & ⋯ & NA & NA & NA & NA & NA & NA & NA & NA & NA & 0\\\\\n",
       "\t5 & 35 & Ontario          & Ontario              & 2020-03-11 & NA & 42 & 0 & 1 & 42 & 3394 & ⋯ & NA & NA & NA & NA & NA & NA & NA & NA & NA & 0\\\\\n",
       "\t6 & 24 & Quebec           & Québec               & 2020-03-11 & NA &  7 & 0 & 0 &  7 &  556 & ⋯ & NA & NA & NA & NA & NA & NA & NA & NA & NA & 0\\\\\n",
       "\\end{tabular}\n"
      ],
      "text/markdown": [
       "\n",
       "A data.frame: 6 × 40\n",
       "\n",
       "| <!--/--> | pruid &lt;int&gt; | prname &lt;chr&gt; | prnameFR &lt;chr&gt; | date &lt;chr&gt; | update &lt;int&gt; | numconf &lt;int&gt; | numprob &lt;int&gt; | numdeaths &lt;int&gt; | numtotal &lt;int&gt; | numtested &lt;int&gt; | ⋯ ⋯ | ratedeaths_last14 &lt;dbl&gt; | numtotal_last7 &lt;int&gt; | ratetotal_last7 &lt;dbl&gt; | numdeaths_last7 &lt;int&gt; | ratedeaths_last7 &lt;dbl&gt; | avgtotal_last7 &lt;int&gt; | avgincidence_last7 &lt;dbl&gt; | avgdeaths_last7 &lt;int&gt; | avgratedeaths_last7 &lt;dbl&gt; | raterecovered &lt;dbl&gt; |\n",
       "|---|---|---|---|---|---|---|---|---|---|---|---|---|---|---|---|---|---|---|---|---|---|\n",
       "| 1 | 59 | British Columbia | Colombie-Britannique | 2020-03-11 | NA | 39 | 0 | 1 | 39 | 4373 | ⋯ | NA | NA | NA | NA | NA | NA | NA | NA | NA | 0 |\n",
       "| 2 | 48 | Alberta          | Alberta              | 2020-03-11 | NA | 14 | 0 | 0 | 14 | 1969 | ⋯ | NA | NA | NA | NA | NA | NA | NA | NA | NA | 0 |\n",
       "| 3 | 47 | Saskatchewan     | Saskatchewan         | 2020-03-11 | NA |  0 | 0 | 0 |  0 |  204 | ⋯ | NA | NA | NA | NA | NA | NA | NA | NA | NA | 0 |\n",
       "| 4 | 46 | Manitoba         | Manitoba             | 2020-03-11 | NA |  0 | 0 | 0 |  0 |  352 | ⋯ | NA | NA | NA | NA | NA | NA | NA | NA | NA | 0 |\n",
       "| 5 | 35 | Ontario          | Ontario              | 2020-03-11 | NA | 42 | 0 | 1 | 42 | 3394 | ⋯ | NA | NA | NA | NA | NA | NA | NA | NA | NA | 0 |\n",
       "| 6 | 24 | Quebec           | Québec               | 2020-03-11 | NA |  7 | 0 | 0 |  7 |  556 | ⋯ | NA | NA | NA | NA | NA | NA | NA | NA | NA | 0 |\n",
       "\n"
      ],
      "text/plain": [
       "  pruid prname           prnameFR             date       update numconf numprob\n",
       "1 59    British Columbia Colombie-Britannique 2020-03-11 NA     39      0      \n",
       "2 48    Alberta          Alberta              2020-03-11 NA     14      0      \n",
       "3 47    Saskatchewan     Saskatchewan         2020-03-11 NA      0      0      \n",
       "4 46    Manitoba         Manitoba             2020-03-11 NA      0      0      \n",
       "5 35    Ontario          Ontario              2020-03-11 NA     42      0      \n",
       "6 24    Quebec           Québec               2020-03-11 NA      7      0      \n",
       "  numdeaths numtotal numtested ⋯ ratedeaths_last14 numtotal_last7\n",
       "1 1         39       4373      ⋯ NA                NA            \n",
       "2 0         14       1969      ⋯ NA                NA            \n",
       "3 0          0        204      ⋯ NA                NA            \n",
       "4 0          0        352      ⋯ NA                NA            \n",
       "5 1         42       3394      ⋯ NA                NA            \n",
       "6 0          7        556      ⋯ NA                NA            \n",
       "  ratetotal_last7 numdeaths_last7 ratedeaths_last7 avgtotal_last7\n",
       "1 NA              NA              NA               NA            \n",
       "2 NA              NA              NA               NA            \n",
       "3 NA              NA              NA               NA            \n",
       "4 NA              NA              NA               NA            \n",
       "5 NA              NA              NA               NA            \n",
       "6 NA              NA              NA               NA            \n",
       "  avgincidence_last7 avgdeaths_last7 avgratedeaths_last7 raterecovered\n",
       "1 NA                 NA              NA                  0            \n",
       "2 NA                 NA              NA                  0            \n",
       "3 NA                 NA              NA                  0            \n",
       "4 NA                 NA              NA                  0            \n",
       "5 NA                 NA              NA                  0            \n",
       "6 NA                 NA              NA                  0            "
      ]
     },
     "metadata": {},
     "output_type": "display_data"
    }
   ],
   "source": [
    "provinces = c('Ontario','British Columbia','Quebec','Alberta',\n",
    "              'Saskatchewan','Manitoba','New Brunswick','Newfoundland and Labrador',\n",
    "              'Nova Scotia','Prince Edward Island','Northwest Territories','Nunavut','Yukon')\n",
    "\n",
    "covid = covid  %>% \n",
    "    filter(prname %in% provinces)  %>% \n",
    "    filter(!is.na(numtested))\n",
    "head(covid)"
   ]
  },
  {
   "cell_type": "code",
   "execution_count": 6,
   "metadata": {},
   "outputs": [
    {
     "data": {
      "text/html": [
       "<table>\n",
       "<caption>A data.frame: 6 × 7</caption>\n",
       "<thead>\n",
       "\t<tr><th></th><th scope=col>prname</th><th scope=col>date</th><th scope=col>numconf</th><th scope=col>numdeaths</th><th scope=col>numtested</th><th scope=col>numtoday</th><th scope=col>ratetotal</th></tr>\n",
       "\t<tr><th></th><th scope=col>&lt;chr&gt;</th><th scope=col>&lt;chr&gt;</th><th scope=col>&lt;int&gt;</th><th scope=col>&lt;int&gt;</th><th scope=col>&lt;int&gt;</th><th scope=col>&lt;int&gt;</th><th scope=col>&lt;dbl&gt;</th></tr>\n",
       "</thead>\n",
       "<tbody>\n",
       "\t<tr><th scope=row>1</th><td>British Columbia</td><td>2020-03-11</td><td>39</td><td>1</td><td>4373</td><td>7</td><td>0.76</td></tr>\n",
       "\t<tr><th scope=row>2</th><td>Alberta         </td><td>2020-03-11</td><td>14</td><td>0</td><td>1969</td><td>7</td><td>0.32</td></tr>\n",
       "\t<tr><th scope=row>3</th><td>Saskatchewan    </td><td>2020-03-11</td><td> 0</td><td>0</td><td> 204</td><td>0</td><td>0.00</td></tr>\n",
       "\t<tr><th scope=row>4</th><td>Manitoba        </td><td>2020-03-11</td><td> 0</td><td>0</td><td> 352</td><td>0</td><td>0.00</td></tr>\n",
       "\t<tr><th scope=row>5</th><td>Ontario         </td><td>2020-03-11</td><td>42</td><td>1</td><td>3394</td><td>8</td><td>0.29</td></tr>\n",
       "\t<tr><th scope=row>6</th><td>Quebec          </td><td>2020-03-11</td><td> 7</td><td>0</td><td> 556</td><td>3</td><td>0.08</td></tr>\n",
       "</tbody>\n",
       "</table>\n"
      ],
      "text/latex": [
       "A data.frame: 6 × 7\n",
       "\\begin{tabular}{r|lllllll}\n",
       "  & prname & date & numconf & numdeaths & numtested & numtoday & ratetotal\\\\\n",
       "  & <chr> & <chr> & <int> & <int> & <int> & <int> & <dbl>\\\\\n",
       "\\hline\n",
       "\t1 & British Columbia & 2020-03-11 & 39 & 1 & 4373 & 7 & 0.76\\\\\n",
       "\t2 & Alberta          & 2020-03-11 & 14 & 0 & 1969 & 7 & 0.32\\\\\n",
       "\t3 & Saskatchewan     & 2020-03-11 &  0 & 0 &  204 & 0 & 0.00\\\\\n",
       "\t4 & Manitoba         & 2020-03-11 &  0 & 0 &  352 & 0 & 0.00\\\\\n",
       "\t5 & Ontario          & 2020-03-11 & 42 & 1 & 3394 & 8 & 0.29\\\\\n",
       "\t6 & Quebec           & 2020-03-11 &  7 & 0 &  556 & 3 & 0.08\\\\\n",
       "\\end{tabular}\n"
      ],
      "text/markdown": [
       "\n",
       "A data.frame: 6 × 7\n",
       "\n",
       "| <!--/--> | prname &lt;chr&gt; | date &lt;chr&gt; | numconf &lt;int&gt; | numdeaths &lt;int&gt; | numtested &lt;int&gt; | numtoday &lt;int&gt; | ratetotal &lt;dbl&gt; |\n",
       "|---|---|---|---|---|---|---|---|\n",
       "| 1 | British Columbia | 2020-03-11 | 39 | 1 | 4373 | 7 | 0.76 |\n",
       "| 2 | Alberta          | 2020-03-11 | 14 | 0 | 1969 | 7 | 0.32 |\n",
       "| 3 | Saskatchewan     | 2020-03-11 |  0 | 0 |  204 | 0 | 0.00 |\n",
       "| 4 | Manitoba         | 2020-03-11 |  0 | 0 |  352 | 0 | 0.00 |\n",
       "| 5 | Ontario          | 2020-03-11 | 42 | 1 | 3394 | 8 | 0.29 |\n",
       "| 6 | Quebec           | 2020-03-11 |  7 | 0 |  556 | 3 | 0.08 |\n",
       "\n"
      ],
      "text/plain": [
       "  prname           date       numconf numdeaths numtested numtoday ratetotal\n",
       "1 British Columbia 2020-03-11 39      1         4373      7        0.76     \n",
       "2 Alberta          2020-03-11 14      0         1969      7        0.32     \n",
       "3 Saskatchewan     2020-03-11  0      0          204      0        0.00     \n",
       "4 Manitoba         2020-03-11  0      0          352      0        0.00     \n",
       "5 Ontario          2020-03-11 42      1         3394      8        0.29     \n",
       "6 Quebec           2020-03-11  7      0          556      3        0.08     "
      ]
     },
     "metadata": {},
     "output_type": "display_data"
    }
   ],
   "source": [
    "#we will now select the columns we would like to work with\n",
    "covid_wrangled = covid  %>%\n",
    "    select(c(prname, date, numconf, numdeaths, numtested, numtoday,ratetotal))\n",
    "head(covid_wrangled)"
   ]
  },
  {
   "cell_type": "code",
   "execution_count": 7,
   "metadata": {},
   "outputs": [
    {
     "data": {
      "text/html": [
       "<table>\n",
       "<caption>A data.frame: 6 × 7</caption>\n",
       "<thead>\n",
       "\t<tr><th></th><th scope=col>prname</th><th scope=col>date</th><th scope=col>numconf</th><th scope=col>numdeaths</th><th scope=col>numtested</th><th scope=col>numtoday</th><th scope=col>ratetotal</th></tr>\n",
       "\t<tr><th></th><th scope=col>&lt;chr&gt;</th><th scope=col>&lt;date&gt;</th><th scope=col>&lt;int&gt;</th><th scope=col>&lt;int&gt;</th><th scope=col>&lt;int&gt;</th><th scope=col>&lt;int&gt;</th><th scope=col>&lt;dbl&gt;</th></tr>\n",
       "</thead>\n",
       "<tbody>\n",
       "\t<tr><th scope=row>1</th><td>British Columbia</td><td>2020-03-11</td><td>39</td><td>1</td><td>4373</td><td>7</td><td>0.76</td></tr>\n",
       "\t<tr><th scope=row>2</th><td>Alberta         </td><td>2020-03-11</td><td>14</td><td>0</td><td>1969</td><td>7</td><td>0.32</td></tr>\n",
       "\t<tr><th scope=row>3</th><td>Saskatchewan    </td><td>2020-03-11</td><td> 0</td><td>0</td><td> 204</td><td>0</td><td>0.00</td></tr>\n",
       "\t<tr><th scope=row>4</th><td>Manitoba        </td><td>2020-03-11</td><td> 0</td><td>0</td><td> 352</td><td>0</td><td>0.00</td></tr>\n",
       "\t<tr><th scope=row>5</th><td>Ontario         </td><td>2020-03-11</td><td>42</td><td>1</td><td>3394</td><td>8</td><td>0.29</td></tr>\n",
       "\t<tr><th scope=row>6</th><td>Quebec          </td><td>2020-03-11</td><td> 7</td><td>0</td><td> 556</td><td>3</td><td>0.08</td></tr>\n",
       "</tbody>\n",
       "</table>\n"
      ],
      "text/latex": [
       "A data.frame: 6 × 7\n",
       "\\begin{tabular}{r|lllllll}\n",
       "  & prname & date & numconf & numdeaths & numtested & numtoday & ratetotal\\\\\n",
       "  & <chr> & <date> & <int> & <int> & <int> & <int> & <dbl>\\\\\n",
       "\\hline\n",
       "\t1 & British Columbia & 2020-03-11 & 39 & 1 & 4373 & 7 & 0.76\\\\\n",
       "\t2 & Alberta          & 2020-03-11 & 14 & 0 & 1969 & 7 & 0.32\\\\\n",
       "\t3 & Saskatchewan     & 2020-03-11 &  0 & 0 &  204 & 0 & 0.00\\\\\n",
       "\t4 & Manitoba         & 2020-03-11 &  0 & 0 &  352 & 0 & 0.00\\\\\n",
       "\t5 & Ontario          & 2020-03-11 & 42 & 1 & 3394 & 8 & 0.29\\\\\n",
       "\t6 & Quebec           & 2020-03-11 &  7 & 0 &  556 & 3 & 0.08\\\\\n",
       "\\end{tabular}\n"
      ],
      "text/markdown": [
       "\n",
       "A data.frame: 6 × 7\n",
       "\n",
       "| <!--/--> | prname &lt;chr&gt; | date &lt;date&gt; | numconf &lt;int&gt; | numdeaths &lt;int&gt; | numtested &lt;int&gt; | numtoday &lt;int&gt; | ratetotal &lt;dbl&gt; |\n",
       "|---|---|---|---|---|---|---|---|\n",
       "| 1 | British Columbia | 2020-03-11 | 39 | 1 | 4373 | 7 | 0.76 |\n",
       "| 2 | Alberta          | 2020-03-11 | 14 | 0 | 1969 | 7 | 0.32 |\n",
       "| 3 | Saskatchewan     | 2020-03-11 |  0 | 0 |  204 | 0 | 0.00 |\n",
       "| 4 | Manitoba         | 2020-03-11 |  0 | 0 |  352 | 0 | 0.00 |\n",
       "| 5 | Ontario          | 2020-03-11 | 42 | 1 | 3394 | 8 | 0.29 |\n",
       "| 6 | Quebec           | 2020-03-11 |  7 | 0 |  556 | 3 | 0.08 |\n",
       "\n"
      ],
      "text/plain": [
       "  prname           date       numconf numdeaths numtested numtoday ratetotal\n",
       "1 British Columbia 2020-03-11 39      1         4373      7        0.76     \n",
       "2 Alberta          2020-03-11 14      0         1969      7        0.32     \n",
       "3 Saskatchewan     2020-03-11  0      0          204      0        0.00     \n",
       "4 Manitoba         2020-03-11  0      0          352      0        0.00     \n",
       "5 Ontario          2020-03-11 42      1         3394      8        0.29     \n",
       "6 Quebec           2020-03-11  7      0          556      3        0.08     "
      ]
     },
     "metadata": {},
     "output_type": "display_data"
    }
   ],
   "source": [
    "covid_wrangled$date <- as.Date(covid_wrangled$date)\n",
    "head(covid_wrangled)"
   ]
  },
  {
   "cell_type": "markdown",
   "metadata": {},
   "source": [
    "As we are comparing the timeline between confirmed cases to the holidays, we will categorize and filter our data according to canadian holidays"
   ]
  },
  {
   "cell_type": "code",
   "execution_count": 8,
   "metadata": {},
   "outputs": [
    {
     "name": "stderr",
     "output_type": "stream",
     "text": [
      "Parsed with column specification:\n",
      "cols(\n",
      "  date = \u001b[34mcol_date(format = \"\")\u001b[39m,\n",
      "  holiday = \u001b[31mcol_character()\u001b[39m\n",
      ")\n",
      "\n"
     ]
    },
    {
     "data": {
      "text/html": [
       "<table>\n",
       "<caption>A tibble: 6 × 2</caption>\n",
       "<thead>\n",
       "\t<tr><th scope=col>date</th><th scope=col>holiday</th></tr>\n",
       "\t<tr><th scope=col>&lt;date&gt;</th><th scope=col>&lt;chr&gt;</th></tr>\n",
       "</thead>\n",
       "<tbody>\n",
       "\t<tr><td>2012-01-02</td><td>New Year's Day</td></tr>\n",
       "\t<tr><td>2012-02-20</td><td>Family Day    </td></tr>\n",
       "\t<tr><td>2012-04-06</td><td>Good Friday   </td></tr>\n",
       "\t<tr><td>2012-05-21</td><td>Victoria Day  </td></tr>\n",
       "\t<tr><td>2012-07-02</td><td>Canada Day    </td></tr>\n",
       "\t<tr><td>2012-08-06</td><td>Civic Holiday </td></tr>\n",
       "</tbody>\n",
       "</table>\n"
      ],
      "text/latex": [
       "A tibble: 6 × 2\n",
       "\\begin{tabular}{ll}\n",
       " date & holiday\\\\\n",
       " <date> & <chr>\\\\\n",
       "\\hline\n",
       "\t 2012-01-02 & New Year's Day\\\\\n",
       "\t 2012-02-20 & Family Day    \\\\\n",
       "\t 2012-04-06 & Good Friday   \\\\\n",
       "\t 2012-05-21 & Victoria Day  \\\\\n",
       "\t 2012-07-02 & Canada Day    \\\\\n",
       "\t 2012-08-06 & Civic Holiday \\\\\n",
       "\\end{tabular}\n"
      ],
      "text/markdown": [
       "\n",
       "A tibble: 6 × 2\n",
       "\n",
       "| date &lt;date&gt; | holiday &lt;chr&gt; |\n",
       "|---|---|\n",
       "| 2012-01-02 | New Year's Day |\n",
       "| 2012-02-20 | Family Day     |\n",
       "| 2012-04-06 | Good Friday    |\n",
       "| 2012-05-21 | Victoria Day   |\n",
       "| 2012-07-02 | Canada Day     |\n",
       "| 2012-08-06 | Civic Holiday  |\n",
       "\n"
      ],
      "text/plain": [
       "  date       holiday       \n",
       "1 2012-01-02 New Year's Day\n",
       "2 2012-02-20 Family Day    \n",
       "3 2012-04-06 Good Friday   \n",
       "4 2012-05-21 Victoria Day  \n",
       "5 2012-07-02 Canada Day    \n",
       "6 2012-08-06 Civic Holiday "
      ]
     },
     "metadata": {},
     "output_type": "display_data"
    }
   ],
   "source": [
    "#we will use the University of Waterloo dataset to have a tibble of Canadian holidays\n",
    "cdn_holidays  <- read_csv(\"https://raw.githubusercontent.com/uWaterloo/Datasets/master/Holidays/holidays.csv\")\n",
    "head(cdn_holidays)"
   ]
  },
  {
   "cell_type": "code",
   "execution_count": 9,
   "metadata": {},
   "outputs": [
    {
     "data": {
      "text/html": [
       "<table>\n",
       "<caption>A spec_tbl_df: 6 × 2</caption>\n",
       "<thead>\n",
       "\t<tr><th scope=col>date</th><th scope=col>holiday</th></tr>\n",
       "\t<tr><th scope=col>&lt;date&gt;</th><th scope=col>&lt;chr&gt;</th></tr>\n",
       "</thead>\n",
       "<tbody>\n",
       "\t<tr><td>2020-04-10</td><td>Good Friday   </td></tr>\n",
       "\t<tr><td>2020-07-01</td><td>Canada Day    </td></tr>\n",
       "\t<tr><td>2020-09-07</td><td>Labour Day    </td></tr>\n",
       "\t<tr><td>2020-10-12</td><td>Thanksgiving  </td></tr>\n",
       "\t<tr><td>2020-12-25</td><td>Christmas Day </td></tr>\n",
       "\t<tr><td>2021-01-01</td><td>New Year's Day</td></tr>\n",
       "</tbody>\n",
       "</table>\n"
      ],
      "text/latex": [
       "A spec\\_tbl\\_df: 6 × 2\n",
       "\\begin{tabular}{ll}\n",
       " date & holiday\\\\\n",
       " <date> & <chr>\\\\\n",
       "\\hline\n",
       "\t 2020-04-10 & Good Friday   \\\\\n",
       "\t 2020-07-01 & Canada Day    \\\\\n",
       "\t 2020-09-07 & Labour Day    \\\\\n",
       "\t 2020-10-12 & Thanksgiving  \\\\\n",
       "\t 2020-12-25 & Christmas Day \\\\\n",
       "\t 2021-01-01 & New Year's Day\\\\\n",
       "\\end{tabular}\n"
      ],
      "text/markdown": [
       "\n",
       "A spec_tbl_df: 6 × 2\n",
       "\n",
       "| date &lt;date&gt; | holiday &lt;chr&gt; |\n",
       "|---|---|\n",
       "| 2020-04-10 | Good Friday    |\n",
       "| 2020-07-01 | Canada Day     |\n",
       "| 2020-09-07 | Labour Day     |\n",
       "| 2020-10-12 | Thanksgiving   |\n",
       "| 2020-12-25 | Christmas Day  |\n",
       "| 2021-01-01 | New Year's Day |\n",
       "\n"
      ],
      "text/plain": [
       "  date       holiday       \n",
       "1 2020-04-10 Good Friday   \n",
       "2 2020-07-01 Canada Day    \n",
       "3 2020-09-07 Labour Day    \n",
       "4 2020-10-12 Thanksgiving  \n",
       "5 2020-12-25 Christmas Day \n",
       "6 2021-01-01 New Year's Day"
      ]
     },
     "metadata": {},
     "output_type": "display_data"
    }
   ],
   "source": [
    "#We will only consider Canadian public holidays within the date of the first observation \n",
    "# and last observation of the covid dataset\n",
    "\n",
    "public_holidays  <- cdn_holidays  %>% \n",
    "    filter(holiday %in% c(\"New Year's Day\", \"Good Friday\", \"Canada Day\", \n",
    "                          \"Labour Day\", \"Thanksgiving\", \"Christmas Day\"))  %>% \n",
    "    filter(date >= min(covid_wrangled$date), date <= max(covid_wrangled$date))\n",
    "                    \n",
    "public_holidays"
   ]
  },
  {
   "cell_type": "code",
   "execution_count": 10,
   "metadata": {},
   "outputs": [
    {
     "data": {
      "text/html": [
       "<table>\n",
       "<caption>A spec_tbl_df: 5 × 4</caption>\n",
       "<thead>\n",
       "\t<tr><th scope=col>date</th><th scope=col>holiday</th><th scope=col>post_holiday</th><th scope=col>pre_holiday</th></tr>\n",
       "\t<tr><th scope=col>&lt;date&gt;</th><th scope=col>&lt;chr&gt;</th><th scope=col>&lt;date&gt;</th><th scope=col>&lt;date&gt;</th></tr>\n",
       "</thead>\n",
       "<tbody>\n",
       "\t<tr><td>2020-04-10</td><td>Good Friday  </td><td>2020-04-27</td><td>2020-04-03</td></tr>\n",
       "\t<tr><td>2020-07-01</td><td>Canada Day   </td><td>2020-07-18</td><td>2020-06-24</td></tr>\n",
       "\t<tr><td>2020-09-07</td><td>Labour Day   </td><td>2020-09-24</td><td>2020-08-31</td></tr>\n",
       "\t<tr><td>2020-10-12</td><td>Thanksgiving </td><td>2020-10-29</td><td>2020-10-05</td></tr>\n",
       "\t<tr><td>2020-12-25</td><td>Christmas Day</td><td>2021-01-11</td><td>2020-12-18</td></tr>\n",
       "</tbody>\n",
       "</table>\n"
      ],
      "text/latex": [
       "A spec\\_tbl\\_df: 5 × 4\n",
       "\\begin{tabular}{llll}\n",
       " date & holiday & post\\_holiday & pre\\_holiday\\\\\n",
       " <date> & <chr> & <date> & <date>\\\\\n",
       "\\hline\n",
       "\t 2020-04-10 & Good Friday   & 2020-04-27 & 2020-04-03\\\\\n",
       "\t 2020-07-01 & Canada Day    & 2020-07-18 & 2020-06-24\\\\\n",
       "\t 2020-09-07 & Labour Day    & 2020-09-24 & 2020-08-31\\\\\n",
       "\t 2020-10-12 & Thanksgiving  & 2020-10-29 & 2020-10-05\\\\\n",
       "\t 2020-12-25 & Christmas Day & 2021-01-11 & 2020-12-18\\\\\n",
       "\\end{tabular}\n"
      ],
      "text/markdown": [
       "\n",
       "A spec_tbl_df: 5 × 4\n",
       "\n",
       "| date &lt;date&gt; | holiday &lt;chr&gt; | post_holiday &lt;date&gt; | pre_holiday &lt;date&gt; |\n",
       "|---|---|---|---|\n",
       "| 2020-04-10 | Good Friday   | 2020-04-27 | 2020-04-03 |\n",
       "| 2020-07-01 | Canada Day    | 2020-07-18 | 2020-06-24 |\n",
       "| 2020-09-07 | Labour Day    | 2020-09-24 | 2020-08-31 |\n",
       "| 2020-10-12 | Thanksgiving  | 2020-10-29 | 2020-10-05 |\n",
       "| 2020-12-25 | Christmas Day | 2021-01-11 | 2020-12-18 |\n",
       "\n"
      ],
      "text/plain": [
       "  date       holiday       post_holiday pre_holiday\n",
       "1 2020-04-10 Good Friday   2020-04-27   2020-04-03 \n",
       "2 2020-07-01 Canada Day    2020-07-18   2020-06-24 \n",
       "3 2020-09-07 Labour Day    2020-09-24   2020-08-31 \n",
       "4 2020-10-12 Thanksgiving  2020-10-29   2020-10-05 \n",
       "5 2020-12-25 Christmas Day 2021-01-11   2020-12-18 "
      ]
     },
     "metadata": {},
     "output_type": "display_data"
    },
    {
     "data": {
      "text/html": [
       "<table>\n",
       "<caption>A spec_tbl_df: 1 × 4</caption>\n",
       "<thead>\n",
       "\t<tr><th scope=col>date</th><th scope=col>holiday</th><th scope=col>post_holiday</th><th scope=col>pre_holiday</th></tr>\n",
       "\t<tr><th scope=col>&lt;date&gt;</th><th scope=col>&lt;chr&gt;</th><th scope=col>&lt;date&gt;</th><th scope=col>&lt;date&gt;</th></tr>\n",
       "</thead>\n",
       "<tbody>\n",
       "\t<tr><td>2021-01-01</td><td>New Year's Day</td><td>2021-01-18</td><td>2020-12-25</td></tr>\n",
       "</tbody>\n",
       "</table>\n"
      ],
      "text/latex": [
       "A spec\\_tbl\\_df: 1 × 4\n",
       "\\begin{tabular}{llll}\n",
       " date & holiday & post\\_holiday & pre\\_holiday\\\\\n",
       " <date> & <chr> & <date> & <date>\\\\\n",
       "\\hline\n",
       "\t 2021-01-01 & New Year's Day & 2021-01-18 & 2020-12-25\\\\\n",
       "\\end{tabular}\n"
      ],
      "text/markdown": [
       "\n",
       "A spec_tbl_df: 1 × 4\n",
       "\n",
       "| date &lt;date&gt; | holiday &lt;chr&gt; | post_holiday &lt;date&gt; | pre_holiday &lt;date&gt; |\n",
       "|---|---|---|---|\n",
       "| 2021-01-01 | New Year's Day | 2021-01-18 | 2020-12-25 |\n",
       "\n"
      ],
      "text/plain": [
       "  date       holiday        post_holiday pre_holiday\n",
       "1 2021-01-01 New Year's Day 2021-01-18   2020-12-25 "
      ]
     },
     "metadata": {},
     "output_type": "display_data"
    }
   ],
   "source": [
    "#as mentioned from cdc.gov, symptoms may appear 2-14 days after first encounter\n",
    "#within the holidays dataframe, we would like to measure dates 2 weeks (14 days) after the holiday. \n",
    "#We will give a little room for celebrations celebrated close to the actual holiday (14 days will become 17 days).\n",
    "\n",
    "#likewise we will also add a column for a week in advance to the holiday.\n",
    "public_holiday_bound <- public_holidays  %>% \n",
    "    mutate(post_holiday = date + 17, pre_holiday = date - 7) \n",
    "\n",
    "public_holiday_bound_2020  <- filter(public_holiday_bound, ymd(date) >= ymd(\"2020-01-01\"),  ymd(date) <= ymd(\"2020-12-31\")) \n",
    "public_holiday_bound_2021  <- filter(public_holiday_bound, ymd(date) >= ymd(\"2021-01-01\"),  ymd(date) <= ymd(\"2021-12-31\"))\n",
    "\n",
    "public_holiday_bound_2020\n",
    "public_holiday_bound_2021"
   ]
  },
  {
   "cell_type": "code",
   "execution_count": 19,
   "metadata": {},
   "outputs": [
    {
     "data": {
      "text/html": [
       "<time datetime=\"2020-04-03\">2020-04-03</time>"
      ],
      "text/latex": [
       "2020-04-03"
      ],
      "text/markdown": [
       "2020-04-03"
      ],
      "text/plain": [
       "[1] \"2020-04-03\""
      ]
     },
     "metadata": {},
     "output_type": "display_data"
    },
    {
     "data": {
      "text/html": [
       "<time datetime=\"2020-04-27\">2020-04-27</time>"
      ],
      "text/latex": [
       "2020-04-27"
      ],
      "text/markdown": [
       "2020-04-27"
      ],
      "text/plain": [
       "[1] \"2020-04-27\""
      ]
     },
     "metadata": {},
     "output_type": "display_data"
    }
   ],
   "source": [
    "#2020 holiday bounds\n",
    "pre_good_friday = ymd(public_holiday_bound_2020$pre_holiday[public_holiday_bound_2020$holiday == 'Good Friday'])\n",
    "pre_canada_day = ymd(public_holiday_bound_2020$pre_holiday[public_holiday_bound_2020$holiday == 'Canada Day'])\n",
    "pre_labour_day = ymd(public_holiday_bound_2020$pre_holiday[public_holiday_bound_2020$holiday == 'Labour Day'])\n",
    "pre_thanksgiving = ymd(public_holiday_bound_2020$pre_holiday[public_holiday_bound_2020$holiday == 'Thanksgiving'])\n",
    "pre_christmas = ymd(public_holiday_bound_2020$pre_holiday[public_holiday_bound_2020$holiday == 'Christmas Day'])\n",
    "\n",
    "post_good_friday = ymd(public_holiday_bound_2020$post_holiday[public_holiday_bound_2020$holiday == 'Good Friday'])\n",
    "post_canada_day = ymd(public_holiday_bound_2020$post_holiday[public_holiday_bound_2020$holiday == 'Canada Day'])\n",
    "post_labour_day = ymd(public_holiday_bound_2020$post_holiday[public_holiday_bound_2020$holiday == 'Labour Day'])\n",
    "post_thanksgiving = ymd(public_holiday_bound_2020$post_holiday[public_holiday_bound_2020$holiday == 'Thanksgiving'])\n",
    "post_christmas = ymd(public_holiday_bound_2020$post_holiday[public_holiday_bound_2020$holiday == 'Christmas Day'])\n",
    "\n",
    "#2021 holiday bounds\n",
    "pre_new_years = ymd(public_holiday_bound_2021$pre_holiday[public_holiday_bound_2021$holiday == \"New Year's Day\"])\n",
    "post_new_years = ymd(public_holiday_bound_2021$post_holiday[public_holiday_bound_2021$holiday == \"New Year's Day\"])\n",
    "\n",
    "\n",
    "pre_good_friday\n",
    "post_good_friday"
   ]
  },
  {
   "cell_type": "code",
   "execution_count": 18,
   "metadata": {},
   "outputs": [
    {
     "data": {
      "text/html": [
       "8"
      ],
      "text/latex": [
       "8"
      ],
      "text/markdown": [
       "8"
      ],
      "text/plain": [
       "[1] 8"
      ]
     },
     "metadata": {},
     "output_type": "display_data"
    },
    {
     "data": {
      "text/html": [
       "<table>\n",
       "<caption>A data.frame: 6 × 8</caption>\n",
       "<thead>\n",
       "\t<tr><th></th><th scope=col>prname</th><th scope=col>date</th><th scope=col>numconf</th><th scope=col>numdeaths</th><th scope=col>numtested</th><th scope=col>numtoday</th><th scope=col>ratetotal</th><th scope=col>holiday</th></tr>\n",
       "\t<tr><th></th><th scope=col>&lt;chr&gt;</th><th scope=col>&lt;date&gt;</th><th scope=col>&lt;int&gt;</th><th scope=col>&lt;int&gt;</th><th scope=col>&lt;int&gt;</th><th scope=col>&lt;int&gt;</th><th scope=col>&lt;dbl&gt;</th><th scope=col>&lt;chr&gt;</th></tr>\n",
       "</thead>\n",
       "<tbody>\n",
       "\t<tr><th scope=row>1</th><td>British Columbia</td><td>2020-04-03</td><td>1174</td><td>35</td><td>39926</td><td> 53</td><td>22.81</td><td>Good Friday</td></tr>\n",
       "\t<tr><th scope=row>2</th><td>Alberta         </td><td>2020-04-03</td><td>1075</td><td>18</td><td>60508</td><td>107</td><td>24.31</td><td>Good Friday</td></tr>\n",
       "\t<tr><th scope=row>3</th><td>Saskatchewan    </td><td>2020-04-03</td><td> 220</td><td> 3</td><td>11720</td><td> 14</td><td>18.66</td><td>Good Friday</td></tr>\n",
       "\t<tr><th scope=row>4</th><td>Manitoba        </td><td>2020-04-03</td><td> 164</td><td> 2</td><td>11650</td><td> 15</td><td>13.20</td><td>Good Friday</td></tr>\n",
       "\t<tr><th scope=row>5</th><td>Ontario         </td><td>2020-04-03</td><td>3255</td><td>67</td><td>67998</td><td>462</td><td>22.09</td><td>Good Friday</td></tr>\n",
       "\t<tr><th scope=row>6</th><td>Quebec          </td><td>2020-04-03</td><td>6101</td><td>61</td><td>83570</td><td>583</td><td>71.15</td><td>Good Friday</td></tr>\n",
       "</tbody>\n",
       "</table>\n"
      ],
      "text/latex": [
       "A data.frame: 6 × 8\n",
       "\\begin{tabular}{r|llllllll}\n",
       "  & prname & date & numconf & numdeaths & numtested & numtoday & ratetotal & holiday\\\\\n",
       "  & <chr> & <date> & <int> & <int> & <int> & <int> & <dbl> & <chr>\\\\\n",
       "\\hline\n",
       "\t1 & British Columbia & 2020-04-03 & 1174 & 35 & 39926 &  53 & 22.81 & Good Friday\\\\\n",
       "\t2 & Alberta          & 2020-04-03 & 1075 & 18 & 60508 & 107 & 24.31 & Good Friday\\\\\n",
       "\t3 & Saskatchewan     & 2020-04-03 &  220 &  3 & 11720 &  14 & 18.66 & Good Friday\\\\\n",
       "\t4 & Manitoba         & 2020-04-03 &  164 &  2 & 11650 &  15 & 13.20 & Good Friday\\\\\n",
       "\t5 & Ontario          & 2020-04-03 & 3255 & 67 & 67998 & 462 & 22.09 & Good Friday\\\\\n",
       "\t6 & Quebec           & 2020-04-03 & 6101 & 61 & 83570 & 583 & 71.15 & Good Friday\\\\\n",
       "\\end{tabular}\n"
      ],
      "text/markdown": [
       "\n",
       "A data.frame: 6 × 8\n",
       "\n",
       "| <!--/--> | prname &lt;chr&gt; | date &lt;date&gt; | numconf &lt;int&gt; | numdeaths &lt;int&gt; | numtested &lt;int&gt; | numtoday &lt;int&gt; | ratetotal &lt;dbl&gt; | holiday &lt;chr&gt; |\n",
       "|---|---|---|---|---|---|---|---|---|\n",
       "| 1 | British Columbia | 2020-04-03 | 1174 | 35 | 39926 |  53 | 22.81 | Good Friday |\n",
       "| 2 | Alberta          | 2020-04-03 | 1075 | 18 | 60508 | 107 | 24.31 | Good Friday |\n",
       "| 3 | Saskatchewan     | 2020-04-03 |  220 |  3 | 11720 |  14 | 18.66 | Good Friday |\n",
       "| 4 | Manitoba         | 2020-04-03 |  164 |  2 | 11650 |  15 | 13.20 | Good Friday |\n",
       "| 5 | Ontario          | 2020-04-03 | 3255 | 67 | 67998 | 462 | 22.09 | Good Friday |\n",
       "| 6 | Quebec           | 2020-04-03 | 6101 | 61 | 83570 | 583 | 71.15 | Good Friday |\n",
       "\n"
      ],
      "text/plain": [
       "  prname           date       numconf numdeaths numtested numtoday ratetotal\n",
       "1 British Columbia 2020-04-03 1174    35        39926      53      22.81    \n",
       "2 Alberta          2020-04-03 1075    18        60508     107      24.31    \n",
       "3 Saskatchewan     2020-04-03  220     3        11720      14      18.66    \n",
       "4 Manitoba         2020-04-03  164     2        11650      15      13.20    \n",
       "5 Ontario          2020-04-03 3255    67        67998     462      22.09    \n",
       "6 Quebec           2020-04-03 6101    61        83570     583      71.15    \n",
       "  holiday    \n",
       "1 Good Friday\n",
       "2 Good Friday\n",
       "3 Good Friday\n",
       "4 Good Friday\n",
       "5 Good Friday\n",
       "6 Good Friday"
      ]
     },
     "metadata": {},
     "output_type": "display_data"
    }
   ],
   "source": [
    "covid_clean  <- covid_wrangled  %>%  \n",
    "    mutate(holiday = case_when(\n",
    "    (.$date >= pre_good_friday) & (.$date <= post_good_friday) ~ \"Good Friday\",\n",
    "    (.$date >= pre_canada_day) & (.$date <= post_canada_day) ~ \"Canada Day\",\n",
    "    (.$date >= pre_labour_day) & (.$date <= post_labour_day) ~ \"Labour Day\",\n",
    "    (.$date >= pre_thanksgiving) & (.$date <= post_thanksgiving) ~ \"Thanksgiving\", \n",
    "    (.$date >= pre_christmas) & (.$date <= post_christmas) ~ \"Christmas Day\",\n",
    "    (.$date >= pre_new_years) & (.$date <= post_new_years) ~ \"New Year's Day\"))  %>% \n",
    "    filter(holiday == \"Good Friday\")\n",
    "\n",
    "length(covid_clean)\n",
    "head(covid_clean)"
   ]
  },
  {
   "cell_type": "markdown",
   "metadata": {},
   "source": [
    "additionally we will add a column to find the proportion between number of confirmed cases to the number of tested individuals "
   ]
  },
  {
   "cell_type": "code",
   "execution_count": 13,
   "metadata": {},
   "outputs": [
    {
     "data": {
      "text/html": [
       "<table>\n",
       "<caption>A data.frame: 6 × 9</caption>\n",
       "<thead>\n",
       "\t<tr><th></th><th scope=col>prname</th><th scope=col>date</th><th scope=col>numconf</th><th scope=col>numdeaths</th><th scope=col>numtested</th><th scope=col>numtoday</th><th scope=col>ratetotal</th><th scope=col>holiday</th><th scope=col>propconfirmed</th></tr>\n",
       "\t<tr><th></th><th scope=col>&lt;chr&gt;</th><th scope=col>&lt;date&gt;</th><th scope=col>&lt;int&gt;</th><th scope=col>&lt;int&gt;</th><th scope=col>&lt;int&gt;</th><th scope=col>&lt;int&gt;</th><th scope=col>&lt;dbl&gt;</th><th scope=col>&lt;chr&gt;</th><th scope=col>&lt;dbl&gt;</th></tr>\n",
       "</thead>\n",
       "<tbody>\n",
       "\t<tr><th scope=row>1</th><td>British Columbia</td><td>2020-04-03</td><td>1174</td><td>35</td><td>39926</td><td> 53</td><td>22.81</td><td>Good Friday</td><td>0.02940440</td></tr>\n",
       "\t<tr><th scope=row>2</th><td>Alberta         </td><td>2020-04-03</td><td>1075</td><td>18</td><td>60508</td><td>107</td><td>24.31</td><td>Good Friday</td><td>0.01776625</td></tr>\n",
       "\t<tr><th scope=row>3</th><td>Saskatchewan    </td><td>2020-04-03</td><td> 220</td><td> 3</td><td>11720</td><td> 14</td><td>18.66</td><td>Good Friday</td><td>0.01877133</td></tr>\n",
       "\t<tr><th scope=row>4</th><td>Manitoba        </td><td>2020-04-03</td><td> 164</td><td> 2</td><td>11650</td><td> 15</td><td>13.20</td><td>Good Friday</td><td>0.01407725</td></tr>\n",
       "\t<tr><th scope=row>5</th><td>Ontario         </td><td>2020-04-03</td><td>3255</td><td>67</td><td>67998</td><td>462</td><td>22.09</td><td>Good Friday</td><td>0.04786905</td></tr>\n",
       "\t<tr><th scope=row>6</th><td>Quebec          </td><td>2020-04-03</td><td>6101</td><td>61</td><td>83570</td><td>583</td><td>71.15</td><td>Good Friday</td><td>0.07300467</td></tr>\n",
       "</tbody>\n",
       "</table>\n"
      ],
      "text/latex": [
       "A data.frame: 6 × 9\n",
       "\\begin{tabular}{r|lllllllll}\n",
       "  & prname & date & numconf & numdeaths & numtested & numtoday & ratetotal & holiday & propconfirmed\\\\\n",
       "  & <chr> & <date> & <int> & <int> & <int> & <int> & <dbl> & <chr> & <dbl>\\\\\n",
       "\\hline\n",
       "\t1 & British Columbia & 2020-04-03 & 1174 & 35 & 39926 &  53 & 22.81 & Good Friday & 0.02940440\\\\\n",
       "\t2 & Alberta          & 2020-04-03 & 1075 & 18 & 60508 & 107 & 24.31 & Good Friday & 0.01776625\\\\\n",
       "\t3 & Saskatchewan     & 2020-04-03 &  220 &  3 & 11720 &  14 & 18.66 & Good Friday & 0.01877133\\\\\n",
       "\t4 & Manitoba         & 2020-04-03 &  164 &  2 & 11650 &  15 & 13.20 & Good Friday & 0.01407725\\\\\n",
       "\t5 & Ontario          & 2020-04-03 & 3255 & 67 & 67998 & 462 & 22.09 & Good Friday & 0.04786905\\\\\n",
       "\t6 & Quebec           & 2020-04-03 & 6101 & 61 & 83570 & 583 & 71.15 & Good Friday & 0.07300467\\\\\n",
       "\\end{tabular}\n"
      ],
      "text/markdown": [
       "\n",
       "A data.frame: 6 × 9\n",
       "\n",
       "| <!--/--> | prname &lt;chr&gt; | date &lt;date&gt; | numconf &lt;int&gt; | numdeaths &lt;int&gt; | numtested &lt;int&gt; | numtoday &lt;int&gt; | ratetotal &lt;dbl&gt; | holiday &lt;chr&gt; | propconfirmed &lt;dbl&gt; |\n",
       "|---|---|---|---|---|---|---|---|---|---|\n",
       "| 1 | British Columbia | 2020-04-03 | 1174 | 35 | 39926 |  53 | 22.81 | Good Friday | 0.02940440 |\n",
       "| 2 | Alberta          | 2020-04-03 | 1075 | 18 | 60508 | 107 | 24.31 | Good Friday | 0.01776625 |\n",
       "| 3 | Saskatchewan     | 2020-04-03 |  220 |  3 | 11720 |  14 | 18.66 | Good Friday | 0.01877133 |\n",
       "| 4 | Manitoba         | 2020-04-03 |  164 |  2 | 11650 |  15 | 13.20 | Good Friday | 0.01407725 |\n",
       "| 5 | Ontario          | 2020-04-03 | 3255 | 67 | 67998 | 462 | 22.09 | Good Friday | 0.04786905 |\n",
       "| 6 | Quebec           | 2020-04-03 | 6101 | 61 | 83570 | 583 | 71.15 | Good Friday | 0.07300467 |\n",
       "\n"
      ],
      "text/plain": [
       "  prname           date       numconf numdeaths numtested numtoday ratetotal\n",
       "1 British Columbia 2020-04-03 1174    35        39926      53      22.81    \n",
       "2 Alberta          2020-04-03 1075    18        60508     107      24.31    \n",
       "3 Saskatchewan     2020-04-03  220     3        11720      14      18.66    \n",
       "4 Manitoba         2020-04-03  164     2        11650      15      13.20    \n",
       "5 Ontario          2020-04-03 3255    67        67998     462      22.09    \n",
       "6 Quebec           2020-04-03 6101    61        83570     583      71.15    \n",
       "  holiday     propconfirmed\n",
       "1 Good Friday 0.02940440   \n",
       "2 Good Friday 0.01776625   \n",
       "3 Good Friday 0.01877133   \n",
       "4 Good Friday 0.01407725   \n",
       "5 Good Friday 0.04786905   \n",
       "6 Good Friday 0.07300467   "
      ]
     },
     "metadata": {},
     "output_type": "display_data"
    }
   ],
   "source": [
    "covid_clean  <-  mutate(covid_clean, propconfirmed = numconf / numtested)\n",
    "head(covid_clean)"
   ]
  },
  {
   "cell_type": "code",
   "execution_count": null,
   "metadata": {},
   "outputs": [],
   "source": []
  }
 ],
 "metadata": {
  "kernelspec": {
   "display_name": "R",
   "language": "R",
   "name": "ir"
  },
  "language_info": {
   "codemirror_mode": "r",
   "file_extension": ".r",
   "mimetype": "text/x-r-source",
   "name": "R",
   "pygments_lexer": "r",
   "version": "4.0.0"
  }
 },
 "nbformat": 4,
 "nbformat_minor": 4
}
