{
 "cells": [
  {
   "cell_type": "markdown",
   "metadata": {},
   "source": [
    "# Project Proposal: Case study analysis: Holidays in COVID-19  #\n",
    "\n",
    "Authors: Fares Burwag, Nikko Dumrique (63631204)"
   ]
  },
  {
   "cell_type": "code",
   "execution_count": 1,
   "metadata": {},
   "outputs": [
    {
     "name": "stderr",
     "output_type": "stream",
     "text": [
      "Updating HTML index of packages in '.Library'\n",
      "\n",
      "Making 'packages.html' ...\n",
      " done\n",
      "\n"
     ]
    }
   ],
   "source": [
    "install.packages(\"conflicted\")"
   ]
  },
  {
   "cell_type": "code",
   "execution_count": 2,
   "metadata": {
    "scrolled": true
   },
   "outputs": [
    {
     "name": "stderr",
     "output_type": "stream",
     "text": [
      "── \u001b[1mAttaching packages\u001b[22m ─────────────────────────────────────── tidyverse 1.3.0 ──\n",
      "\n",
      "\u001b[32m✔\u001b[39m \u001b[34mggplot2\u001b[39m 3.3.2     \u001b[32m✔\u001b[39m \u001b[34mpurrr  \u001b[39m 0.3.4\n",
      "\u001b[32m✔\u001b[39m \u001b[34mtibble \u001b[39m 3.0.3     \u001b[32m✔\u001b[39m \u001b[34mdplyr  \u001b[39m 1.0.2\n",
      "\u001b[32m✔\u001b[39m \u001b[34mtidyr  \u001b[39m 1.1.1     \u001b[32m✔\u001b[39m \u001b[34mstringr\u001b[39m 1.4.0\n",
      "\u001b[32m✔\u001b[39m \u001b[34mreadr  \u001b[39m 1.3.1     \u001b[32m✔\u001b[39m \u001b[34mforcats\u001b[39m 0.5.0\n",
      "\n",
      "Warning message:\n",
      "“package ‘ggplot2’ was built under R version 4.0.1”\n",
      "Warning message:\n",
      "“package ‘tibble’ was built under R version 4.0.2”\n",
      "Warning message:\n",
      "“package ‘tidyr’ was built under R version 4.0.2”\n",
      "Warning message:\n",
      "“package ‘dplyr’ was built under R version 4.0.2”\n",
      "── \u001b[1mConflicts\u001b[22m ────────────────────────────────────────── tidyverse_conflicts() ──\n",
      "\u001b[31m✖\u001b[39m \u001b[34mdplyr\u001b[39m::\u001b[32mfilter()\u001b[39m masks \u001b[34mstats\u001b[39m::filter()\n",
      "\u001b[31m✖\u001b[39m \u001b[34mdplyr\u001b[39m::\u001b[32mlag()\u001b[39m    masks \u001b[34mstats\u001b[39m::lag()\n",
      "\n",
      "Warning message:\n",
      "“package ‘infer’ was built under R version 4.0.2”\n",
      "\n",
      "Attaching package: ‘gridExtra’\n",
      "\n",
      "\n",
      "The following object is masked from ‘package:dplyr’:\n",
      "\n",
      "    combine\n",
      "\n",
      "\n",
      "\n",
      "********************************************************\n",
      "\n",
      "Note: As of version 1.0.0, cowplot does not change the\n",
      "\n",
      "  default ggplot2 theme anymore. To recover the previous\n",
      "\n",
      "  behavior, execute:\n",
      "  theme_set(theme_cowplot())\n",
      "\n",
      "********************************************************\n",
      "\n",
      "\n"
     ]
    }
   ],
   "source": [
    "library(tidyverse)\n",
    "library(repr)\n",
    "library(datateachr)\n",
    "library(digest)\n",
    "library(infer)\n",
    "library(gridExtra)\n",
    "library(cowplot)\n",
    "library(dplyr)\n",
    "library(conflicted)\n",
    "library(lubridate)"
   ]
  },
  {
   "cell_type": "code",
   "execution_count": 3,
   "metadata": {},
   "outputs": [
    {
     "name": "stderr",
     "output_type": "stream",
     "text": [
      "[conflicted] Will prefer \u001b[34mdplyr::select\u001b[39m over any other package\n",
      "\n",
      "[conflicted] Will prefer \u001b[34mdplyr::filter\u001b[39m over any other package\n",
      "\n"
     ]
    }
   ],
   "source": [
    "conflict_prefer(\"select\", \"dplyr\")\n",
    "conflict_prefer(\"filter\", \"dplyr\")"
   ]
  },
  {
   "cell_type": "markdown",
   "metadata": {},
   "source": [
    "## Data Wrangling ##"
   ]
  },
  {
   "cell_type": "code",
   "execution_count": 4,
   "metadata": {},
   "outputs": [
    {
     "name": "stderr",
     "output_type": "stream",
     "text": [
      "Parsed with column specification:\n",
      "cols(\n",
      "  .default = col_double(),\n",
      "  prname = \u001b[31mcol_character()\u001b[39m,\n",
      "  prnameFR = \u001b[31mcol_character()\u001b[39m,\n",
      "  date = \u001b[34mcol_date(format = \"\")\u001b[39m,\n",
      "  update = \u001b[33mcol_logical()\u001b[39m,\n",
      "  percentrecover = \u001b[31mcol_character()\u001b[39m\n",
      ")\n",
      "\n",
      "See spec(...) for full column specifications.\n",
      "\n"
     ]
    },
    {
     "data": {
      "text/html": [
       "<table>\n",
       "<caption>A tibble: 6 × 40</caption>\n",
       "<thead>\n",
       "\t<tr><th scope=col>pruid</th><th scope=col>prname</th><th scope=col>prnameFR</th><th scope=col>date</th><th scope=col>update</th><th scope=col>numconf</th><th scope=col>numprob</th><th scope=col>numdeaths</th><th scope=col>numtotal</th><th scope=col>numtested</th><th scope=col>⋯</th><th scope=col>ratedeaths_last14</th><th scope=col>numtotal_last7</th><th scope=col>ratetotal_last7</th><th scope=col>numdeaths_last7</th><th scope=col>ratedeaths_last7</th><th scope=col>avgtotal_last7</th><th scope=col>avgincidence_last7</th><th scope=col>avgdeaths_last7</th><th scope=col>avgratedeaths_last7</th><th scope=col>raterecovered</th></tr>\n",
       "\t<tr><th scope=col>&lt;dbl&gt;</th><th scope=col>&lt;chr&gt;</th><th scope=col>&lt;chr&gt;</th><th scope=col>&lt;date&gt;</th><th scope=col>&lt;lgl&gt;</th><th scope=col>&lt;dbl&gt;</th><th scope=col>&lt;dbl&gt;</th><th scope=col>&lt;dbl&gt;</th><th scope=col>&lt;dbl&gt;</th><th scope=col>&lt;dbl&gt;</th><th scope=col>⋯</th><th scope=col>&lt;dbl&gt;</th><th scope=col>&lt;dbl&gt;</th><th scope=col>&lt;dbl&gt;</th><th scope=col>&lt;dbl&gt;</th><th scope=col>&lt;dbl&gt;</th><th scope=col>&lt;dbl&gt;</th><th scope=col>&lt;dbl&gt;</th><th scope=col>&lt;dbl&gt;</th><th scope=col>&lt;dbl&gt;</th><th scope=col>&lt;dbl&gt;</th></tr>\n",
       "</thead>\n",
       "<tbody>\n",
       "\t<tr><td>35</td><td>Ontario         </td><td>Ontario             </td><td>2020-01-31</td><td>NA</td><td>3</td><td>0</td><td>0</td><td>3</td><td>NA</td><td>⋯</td><td>NA</td><td>NA</td><td>NA</td><td>NA</td><td>NA</td><td>NA</td><td>NA</td><td>NA</td><td>NA</td><td>0</td></tr>\n",
       "\t<tr><td>59</td><td>British Columbia</td><td>Colombie-Britannique</td><td>2020-01-31</td><td>NA</td><td>1</td><td>0</td><td>0</td><td>1</td><td>NA</td><td>⋯</td><td>NA</td><td>NA</td><td>NA</td><td>NA</td><td>NA</td><td>NA</td><td>NA</td><td>NA</td><td>NA</td><td>0</td></tr>\n",
       "\t<tr><td> 1</td><td>Canada          </td><td>Canada              </td><td>2020-01-31</td><td>NA</td><td>4</td><td>0</td><td>0</td><td>4</td><td>NA</td><td>⋯</td><td>NA</td><td>NA</td><td>NA</td><td>NA</td><td>NA</td><td>NA</td><td>NA</td><td>NA</td><td>NA</td><td>0</td></tr>\n",
       "\t<tr><td>35</td><td>Ontario         </td><td>Ontario             </td><td>2020-02-08</td><td>NA</td><td>3</td><td>0</td><td>0</td><td>3</td><td>NA</td><td>⋯</td><td>NA</td><td>NA</td><td>NA</td><td>NA</td><td>NA</td><td>NA</td><td>NA</td><td>NA</td><td>NA</td><td>0</td></tr>\n",
       "\t<tr><td>59</td><td>British Columbia</td><td>Colombie-Britannique</td><td>2020-02-08</td><td>NA</td><td>4</td><td>0</td><td>0</td><td>4</td><td>NA</td><td>⋯</td><td>NA</td><td>NA</td><td>NA</td><td>NA</td><td>NA</td><td>NA</td><td>NA</td><td>NA</td><td>NA</td><td>0</td></tr>\n",
       "\t<tr><td> 1</td><td>Canada          </td><td>Canada              </td><td>2020-02-08</td><td>NA</td><td>7</td><td>0</td><td>0</td><td>7</td><td>NA</td><td>⋯</td><td>NA</td><td>NA</td><td>NA</td><td>NA</td><td>NA</td><td>NA</td><td>NA</td><td>NA</td><td>NA</td><td>0</td></tr>\n",
       "</tbody>\n",
       "</table>\n"
      ],
      "text/latex": [
       "A tibble: 6 × 40\n",
       "\\begin{tabular}{lllllllllllllllllllll}\n",
       " pruid & prname & prnameFR & date & update & numconf & numprob & numdeaths & numtotal & numtested & ⋯ & ratedeaths\\_last14 & numtotal\\_last7 & ratetotal\\_last7 & numdeaths\\_last7 & ratedeaths\\_last7 & avgtotal\\_last7 & avgincidence\\_last7 & avgdeaths\\_last7 & avgratedeaths\\_last7 & raterecovered\\\\\n",
       " <dbl> & <chr> & <chr> & <date> & <lgl> & <dbl> & <dbl> & <dbl> & <dbl> & <dbl> & ⋯ & <dbl> & <dbl> & <dbl> & <dbl> & <dbl> & <dbl> & <dbl> & <dbl> & <dbl> & <dbl>\\\\\n",
       "\\hline\n",
       "\t 35 & Ontario          & Ontario              & 2020-01-31 & NA & 3 & 0 & 0 & 3 & NA & ⋯ & NA & NA & NA & NA & NA & NA & NA & NA & NA & 0\\\\\n",
       "\t 59 & British Columbia & Colombie-Britannique & 2020-01-31 & NA & 1 & 0 & 0 & 1 & NA & ⋯ & NA & NA & NA & NA & NA & NA & NA & NA & NA & 0\\\\\n",
       "\t  1 & Canada           & Canada               & 2020-01-31 & NA & 4 & 0 & 0 & 4 & NA & ⋯ & NA & NA & NA & NA & NA & NA & NA & NA & NA & 0\\\\\n",
       "\t 35 & Ontario          & Ontario              & 2020-02-08 & NA & 3 & 0 & 0 & 3 & NA & ⋯ & NA & NA & NA & NA & NA & NA & NA & NA & NA & 0\\\\\n",
       "\t 59 & British Columbia & Colombie-Britannique & 2020-02-08 & NA & 4 & 0 & 0 & 4 & NA & ⋯ & NA & NA & NA & NA & NA & NA & NA & NA & NA & 0\\\\\n",
       "\t  1 & Canada           & Canada               & 2020-02-08 & NA & 7 & 0 & 0 & 7 & NA & ⋯ & NA & NA & NA & NA & NA & NA & NA & NA & NA & 0\\\\\n",
       "\\end{tabular}\n"
      ],
      "text/markdown": [
       "\n",
       "A tibble: 6 × 40\n",
       "\n",
       "| pruid &lt;dbl&gt; | prname &lt;chr&gt; | prnameFR &lt;chr&gt; | date &lt;date&gt; | update &lt;lgl&gt; | numconf &lt;dbl&gt; | numprob &lt;dbl&gt; | numdeaths &lt;dbl&gt; | numtotal &lt;dbl&gt; | numtested &lt;dbl&gt; | ⋯ ⋯ | ratedeaths_last14 &lt;dbl&gt; | numtotal_last7 &lt;dbl&gt; | ratetotal_last7 &lt;dbl&gt; | numdeaths_last7 &lt;dbl&gt; | ratedeaths_last7 &lt;dbl&gt; | avgtotal_last7 &lt;dbl&gt; | avgincidence_last7 &lt;dbl&gt; | avgdeaths_last7 &lt;dbl&gt; | avgratedeaths_last7 &lt;dbl&gt; | raterecovered &lt;dbl&gt; |\n",
       "|---|---|---|---|---|---|---|---|---|---|---|---|---|---|---|---|---|---|---|---|---|\n",
       "| 35 | Ontario          | Ontario              | 2020-01-31 | NA | 3 | 0 | 0 | 3 | NA | ⋯ | NA | NA | NA | NA | NA | NA | NA | NA | NA | 0 |\n",
       "| 59 | British Columbia | Colombie-Britannique | 2020-01-31 | NA | 1 | 0 | 0 | 1 | NA | ⋯ | NA | NA | NA | NA | NA | NA | NA | NA | NA | 0 |\n",
       "|  1 | Canada           | Canada               | 2020-01-31 | NA | 4 | 0 | 0 | 4 | NA | ⋯ | NA | NA | NA | NA | NA | NA | NA | NA | NA | 0 |\n",
       "| 35 | Ontario          | Ontario              | 2020-02-08 | NA | 3 | 0 | 0 | 3 | NA | ⋯ | NA | NA | NA | NA | NA | NA | NA | NA | NA | 0 |\n",
       "| 59 | British Columbia | Colombie-Britannique | 2020-02-08 | NA | 4 | 0 | 0 | 4 | NA | ⋯ | NA | NA | NA | NA | NA | NA | NA | NA | NA | 0 |\n",
       "|  1 | Canada           | Canada               | 2020-02-08 | NA | 7 | 0 | 0 | 7 | NA | ⋯ | NA | NA | NA | NA | NA | NA | NA | NA | NA | 0 |\n",
       "\n"
      ],
      "text/plain": [
       "  pruid prname           prnameFR             date       update numconf numprob\n",
       "1 35    Ontario          Ontario              2020-01-31 NA     3       0      \n",
       "2 59    British Columbia Colombie-Britannique 2020-01-31 NA     1       0      \n",
       "3  1    Canada           Canada               2020-01-31 NA     4       0      \n",
       "4 35    Ontario          Ontario              2020-02-08 NA     3       0      \n",
       "5 59    British Columbia Colombie-Britannique 2020-02-08 NA     4       0      \n",
       "6  1    Canada           Canada               2020-02-08 NA     7       0      \n",
       "  numdeaths numtotal numtested ⋯ ratedeaths_last14 numtotal_last7\n",
       "1 0         3        NA        ⋯ NA                NA            \n",
       "2 0         1        NA        ⋯ NA                NA            \n",
       "3 0         4        NA        ⋯ NA                NA            \n",
       "4 0         3        NA        ⋯ NA                NA            \n",
       "5 0         4        NA        ⋯ NA                NA            \n",
       "6 0         7        NA        ⋯ NA                NA            \n",
       "  ratetotal_last7 numdeaths_last7 ratedeaths_last7 avgtotal_last7\n",
       "1 NA              NA              NA               NA            \n",
       "2 NA              NA              NA               NA            \n",
       "3 NA              NA              NA               NA            \n",
       "4 NA              NA              NA               NA            \n",
       "5 NA              NA              NA               NA            \n",
       "6 NA              NA              NA               NA            \n",
       "  avgincidence_last7 avgdeaths_last7 avgratedeaths_last7 raterecovered\n",
       "1 NA                 NA              NA                  0            \n",
       "2 NA                 NA              NA                  0            \n",
       "3 NA                 NA              NA                  0            \n",
       "4 NA                 NA              NA                  0            \n",
       "5 NA                 NA              NA                  0            \n",
       "6 NA                 NA              NA                  0            "
      ]
     },
     "metadata": {},
     "output_type": "display_data"
    }
   ],
   "source": [
    "#reading public covid-19 data from https://health-infobase.canada.ca\n",
    "covid <- read_csv(\"https://health-infobase.canada.ca/src/data/covidLive/covid19-download.csv\")\n",
    "head(covid)"
   ]
  },
  {
   "cell_type": "markdown",
   "metadata": {},
   "source": [
    "we would like to localize the datatset to canadian provinces and territories, therefore we will remove prnames that are not one of the provinces/territories. Additionally would like to remove the observations with numtested == NA. "
   ]
  },
  {
   "cell_type": "code",
   "execution_count": 5,
   "metadata": {},
   "outputs": [
    {
     "data": {
      "text/html": [
       "<table>\n",
       "<caption>A tibble: 6 × 40</caption>\n",
       "<thead>\n",
       "\t<tr><th scope=col>pruid</th><th scope=col>prname</th><th scope=col>prnameFR</th><th scope=col>date</th><th scope=col>update</th><th scope=col>numconf</th><th scope=col>numprob</th><th scope=col>numdeaths</th><th scope=col>numtotal</th><th scope=col>numtested</th><th scope=col>⋯</th><th scope=col>ratedeaths_last14</th><th scope=col>numtotal_last7</th><th scope=col>ratetotal_last7</th><th scope=col>numdeaths_last7</th><th scope=col>ratedeaths_last7</th><th scope=col>avgtotal_last7</th><th scope=col>avgincidence_last7</th><th scope=col>avgdeaths_last7</th><th scope=col>avgratedeaths_last7</th><th scope=col>raterecovered</th></tr>\n",
       "\t<tr><th scope=col>&lt;dbl&gt;</th><th scope=col>&lt;chr&gt;</th><th scope=col>&lt;chr&gt;</th><th scope=col>&lt;date&gt;</th><th scope=col>&lt;lgl&gt;</th><th scope=col>&lt;dbl&gt;</th><th scope=col>&lt;dbl&gt;</th><th scope=col>&lt;dbl&gt;</th><th scope=col>&lt;dbl&gt;</th><th scope=col>&lt;dbl&gt;</th><th scope=col>⋯</th><th scope=col>&lt;dbl&gt;</th><th scope=col>&lt;dbl&gt;</th><th scope=col>&lt;dbl&gt;</th><th scope=col>&lt;dbl&gt;</th><th scope=col>&lt;dbl&gt;</th><th scope=col>&lt;dbl&gt;</th><th scope=col>&lt;dbl&gt;</th><th scope=col>&lt;dbl&gt;</th><th scope=col>&lt;dbl&gt;</th><th scope=col>&lt;dbl&gt;</th></tr>\n",
       "</thead>\n",
       "<tbody>\n",
       "\t<tr><td>59</td><td>British Columbia</td><td>Colombie-Britannique</td><td>2020-03-11</td><td>NA</td><td>39</td><td>0</td><td>1</td><td>39</td><td>4373</td><td>⋯</td><td>NA</td><td>NA</td><td>NA</td><td>NA</td><td>NA</td><td>NA</td><td>NA</td><td>NA</td><td>NA</td><td>0</td></tr>\n",
       "\t<tr><td>48</td><td>Alberta         </td><td>Alberta             </td><td>2020-03-11</td><td>NA</td><td>14</td><td>0</td><td>0</td><td>14</td><td>1969</td><td>⋯</td><td>NA</td><td>NA</td><td>NA</td><td>NA</td><td>NA</td><td>NA</td><td>NA</td><td>NA</td><td>NA</td><td>0</td></tr>\n",
       "\t<tr><td>47</td><td>Saskatchewan    </td><td>Saskatchewan        </td><td>2020-03-11</td><td>NA</td><td> 0</td><td>0</td><td>0</td><td> 0</td><td> 204</td><td>⋯</td><td>NA</td><td>NA</td><td>NA</td><td>NA</td><td>NA</td><td>NA</td><td>NA</td><td>NA</td><td>NA</td><td>0</td></tr>\n",
       "\t<tr><td>46</td><td>Manitoba        </td><td>Manitoba            </td><td>2020-03-11</td><td>NA</td><td> 0</td><td>0</td><td>0</td><td> 0</td><td> 352</td><td>⋯</td><td>NA</td><td>NA</td><td>NA</td><td>NA</td><td>NA</td><td>NA</td><td>NA</td><td>NA</td><td>NA</td><td>0</td></tr>\n",
       "\t<tr><td>35</td><td>Ontario         </td><td>Ontario             </td><td>2020-03-11</td><td>NA</td><td>42</td><td>0</td><td>1</td><td>42</td><td>3394</td><td>⋯</td><td>NA</td><td>NA</td><td>NA</td><td>NA</td><td>NA</td><td>NA</td><td>NA</td><td>NA</td><td>NA</td><td>0</td></tr>\n",
       "\t<tr><td>24</td><td>Quebec          </td><td>Québec              </td><td>2020-03-11</td><td>NA</td><td> 7</td><td>0</td><td>0</td><td> 7</td><td> 556</td><td>⋯</td><td>NA</td><td>NA</td><td>NA</td><td>NA</td><td>NA</td><td>NA</td><td>NA</td><td>NA</td><td>NA</td><td>0</td></tr>\n",
       "</tbody>\n",
       "</table>\n"
      ],
      "text/latex": [
       "A tibble: 6 × 40\n",
       "\\begin{tabular}{lllllllllllllllllllll}\n",
       " pruid & prname & prnameFR & date & update & numconf & numprob & numdeaths & numtotal & numtested & ⋯ & ratedeaths\\_last14 & numtotal\\_last7 & ratetotal\\_last7 & numdeaths\\_last7 & ratedeaths\\_last7 & avgtotal\\_last7 & avgincidence\\_last7 & avgdeaths\\_last7 & avgratedeaths\\_last7 & raterecovered\\\\\n",
       " <dbl> & <chr> & <chr> & <date> & <lgl> & <dbl> & <dbl> & <dbl> & <dbl> & <dbl> & ⋯ & <dbl> & <dbl> & <dbl> & <dbl> & <dbl> & <dbl> & <dbl> & <dbl> & <dbl> & <dbl>\\\\\n",
       "\\hline\n",
       "\t 59 & British Columbia & Colombie-Britannique & 2020-03-11 & NA & 39 & 0 & 1 & 39 & 4373 & ⋯ & NA & NA & NA & NA & NA & NA & NA & NA & NA & 0\\\\\n",
       "\t 48 & Alberta          & Alberta              & 2020-03-11 & NA & 14 & 0 & 0 & 14 & 1969 & ⋯ & NA & NA & NA & NA & NA & NA & NA & NA & NA & 0\\\\\n",
       "\t 47 & Saskatchewan     & Saskatchewan         & 2020-03-11 & NA &  0 & 0 & 0 &  0 &  204 & ⋯ & NA & NA & NA & NA & NA & NA & NA & NA & NA & 0\\\\\n",
       "\t 46 & Manitoba         & Manitoba             & 2020-03-11 & NA &  0 & 0 & 0 &  0 &  352 & ⋯ & NA & NA & NA & NA & NA & NA & NA & NA & NA & 0\\\\\n",
       "\t 35 & Ontario          & Ontario              & 2020-03-11 & NA & 42 & 0 & 1 & 42 & 3394 & ⋯ & NA & NA & NA & NA & NA & NA & NA & NA & NA & 0\\\\\n",
       "\t 24 & Quebec           & Québec               & 2020-03-11 & NA &  7 & 0 & 0 &  7 &  556 & ⋯ & NA & NA & NA & NA & NA & NA & NA & NA & NA & 0\\\\\n",
       "\\end{tabular}\n"
      ],
      "text/markdown": [
       "\n",
       "A tibble: 6 × 40\n",
       "\n",
       "| pruid &lt;dbl&gt; | prname &lt;chr&gt; | prnameFR &lt;chr&gt; | date &lt;date&gt; | update &lt;lgl&gt; | numconf &lt;dbl&gt; | numprob &lt;dbl&gt; | numdeaths &lt;dbl&gt; | numtotal &lt;dbl&gt; | numtested &lt;dbl&gt; | ⋯ ⋯ | ratedeaths_last14 &lt;dbl&gt; | numtotal_last7 &lt;dbl&gt; | ratetotal_last7 &lt;dbl&gt; | numdeaths_last7 &lt;dbl&gt; | ratedeaths_last7 &lt;dbl&gt; | avgtotal_last7 &lt;dbl&gt; | avgincidence_last7 &lt;dbl&gt; | avgdeaths_last7 &lt;dbl&gt; | avgratedeaths_last7 &lt;dbl&gt; | raterecovered &lt;dbl&gt; |\n",
       "|---|---|---|---|---|---|---|---|---|---|---|---|---|---|---|---|---|---|---|---|---|\n",
       "| 59 | British Columbia | Colombie-Britannique | 2020-03-11 | NA | 39 | 0 | 1 | 39 | 4373 | ⋯ | NA | NA | NA | NA | NA | NA | NA | NA | NA | 0 |\n",
       "| 48 | Alberta          | Alberta              | 2020-03-11 | NA | 14 | 0 | 0 | 14 | 1969 | ⋯ | NA | NA | NA | NA | NA | NA | NA | NA | NA | 0 |\n",
       "| 47 | Saskatchewan     | Saskatchewan         | 2020-03-11 | NA |  0 | 0 | 0 |  0 |  204 | ⋯ | NA | NA | NA | NA | NA | NA | NA | NA | NA | 0 |\n",
       "| 46 | Manitoba         | Manitoba             | 2020-03-11 | NA |  0 | 0 | 0 |  0 |  352 | ⋯ | NA | NA | NA | NA | NA | NA | NA | NA | NA | 0 |\n",
       "| 35 | Ontario          | Ontario              | 2020-03-11 | NA | 42 | 0 | 1 | 42 | 3394 | ⋯ | NA | NA | NA | NA | NA | NA | NA | NA | NA | 0 |\n",
       "| 24 | Quebec           | Québec               | 2020-03-11 | NA |  7 | 0 | 0 |  7 |  556 | ⋯ | NA | NA | NA | NA | NA | NA | NA | NA | NA | 0 |\n",
       "\n"
      ],
      "text/plain": [
       "  pruid prname           prnameFR             date       update numconf numprob\n",
       "1 59    British Columbia Colombie-Britannique 2020-03-11 NA     39      0      \n",
       "2 48    Alberta          Alberta              2020-03-11 NA     14      0      \n",
       "3 47    Saskatchewan     Saskatchewan         2020-03-11 NA      0      0      \n",
       "4 46    Manitoba         Manitoba             2020-03-11 NA      0      0      \n",
       "5 35    Ontario          Ontario              2020-03-11 NA     42      0      \n",
       "6 24    Quebec           Québec               2020-03-11 NA      7      0      \n",
       "  numdeaths numtotal numtested ⋯ ratedeaths_last14 numtotal_last7\n",
       "1 1         39       4373      ⋯ NA                NA            \n",
       "2 0         14       1969      ⋯ NA                NA            \n",
       "3 0          0        204      ⋯ NA                NA            \n",
       "4 0          0        352      ⋯ NA                NA            \n",
       "5 1         42       3394      ⋯ NA                NA            \n",
       "6 0          7        556      ⋯ NA                NA            \n",
       "  ratetotal_last7 numdeaths_last7 ratedeaths_last7 avgtotal_last7\n",
       "1 NA              NA              NA               NA            \n",
       "2 NA              NA              NA               NA            \n",
       "3 NA              NA              NA               NA            \n",
       "4 NA              NA              NA               NA            \n",
       "5 NA              NA              NA               NA            \n",
       "6 NA              NA              NA               NA            \n",
       "  avgincidence_last7 avgdeaths_last7 avgratedeaths_last7 raterecovered\n",
       "1 NA                 NA              NA                  0            \n",
       "2 NA                 NA              NA                  0            \n",
       "3 NA                 NA              NA                  0            \n",
       "4 NA                 NA              NA                  0            \n",
       "5 NA                 NA              NA                  0            \n",
       "6 NA                 NA              NA                  0            "
      ]
     },
     "metadata": {},
     "output_type": "display_data"
    }
   ],
   "source": [
    "#filtering the dataset to get strictly provicincal observations in our dataset\n",
    "provinces = c('Ontario','British Columbia','Quebec','Alberta',\n",
    "              'Saskatchewan','Manitoba','New Brunswick','Newfoundland and Labrador',\n",
    "              'Nova Scotia','Prince Edward Island','Northwest Territories','Nunavut','Yukon')\n",
    "\n",
    "covid = covid  %>% \n",
    "    filter(prname %in% provinces)  %>% \n",
    "    filter(!is.na(numtested))\n",
    "head(covid)"
   ]
  },
  {
   "cell_type": "code",
   "execution_count": 56,
   "metadata": {},
   "outputs": [
    {
     "data": {
      "text/html": [
       "<table>\n",
       "<caption>A tibble: 6 × 7</caption>\n",
       "<thead>\n",
       "\t<tr><th scope=col>prname</th><th scope=col>date</th><th scope=col>numconf</th><th scope=col>numdeaths</th><th scope=col>numtested</th><th scope=col>numtoday</th><th scope=col>ratetotal</th></tr>\n",
       "\t<tr><th scope=col>&lt;chr&gt;</th><th scope=col>&lt;date&gt;</th><th scope=col>&lt;dbl&gt;</th><th scope=col>&lt;dbl&gt;</th><th scope=col>&lt;dbl&gt;</th><th scope=col>&lt;dbl&gt;</th><th scope=col>&lt;dbl&gt;</th></tr>\n",
       "</thead>\n",
       "<tbody>\n",
       "\t<tr><td>British Columbia</td><td>2020-03-11</td><td>39</td><td>1</td><td>4373</td><td>7</td><td>0.76</td></tr>\n",
       "\t<tr><td>Alberta         </td><td>2020-03-11</td><td>14</td><td>0</td><td>1969</td><td>7</td><td>0.32</td></tr>\n",
       "\t<tr><td>Saskatchewan    </td><td>2020-03-11</td><td> 0</td><td>0</td><td> 204</td><td>0</td><td>0.00</td></tr>\n",
       "\t<tr><td>Manitoba        </td><td>2020-03-11</td><td> 0</td><td>0</td><td> 352</td><td>0</td><td>0.00</td></tr>\n",
       "\t<tr><td>Ontario         </td><td>2020-03-11</td><td>42</td><td>1</td><td>3394</td><td>8</td><td>0.29</td></tr>\n",
       "\t<tr><td>Quebec          </td><td>2020-03-11</td><td> 7</td><td>0</td><td> 556</td><td>3</td><td>0.08</td></tr>\n",
       "</tbody>\n",
       "</table>\n"
      ],
      "text/latex": [
       "A tibble: 6 × 7\n",
       "\\begin{tabular}{lllllll}\n",
       " prname & date & numconf & numdeaths & numtested & numtoday & ratetotal\\\\\n",
       " <chr> & <date> & <dbl> & <dbl> & <dbl> & <dbl> & <dbl>\\\\\n",
       "\\hline\n",
       "\t British Columbia & 2020-03-11 & 39 & 1 & 4373 & 7 & 0.76\\\\\n",
       "\t Alberta          & 2020-03-11 & 14 & 0 & 1969 & 7 & 0.32\\\\\n",
       "\t Saskatchewan     & 2020-03-11 &  0 & 0 &  204 & 0 & 0.00\\\\\n",
       "\t Manitoba         & 2020-03-11 &  0 & 0 &  352 & 0 & 0.00\\\\\n",
       "\t Ontario          & 2020-03-11 & 42 & 1 & 3394 & 8 & 0.29\\\\\n",
       "\t Quebec           & 2020-03-11 &  7 & 0 &  556 & 3 & 0.08\\\\\n",
       "\\end{tabular}\n"
      ],
      "text/markdown": [
       "\n",
       "A tibble: 6 × 7\n",
       "\n",
       "| prname &lt;chr&gt; | date &lt;date&gt; | numconf &lt;dbl&gt; | numdeaths &lt;dbl&gt; | numtested &lt;dbl&gt; | numtoday &lt;dbl&gt; | ratetotal &lt;dbl&gt; |\n",
       "|---|---|---|---|---|---|---|\n",
       "| British Columbia | 2020-03-11 | 39 | 1 | 4373 | 7 | 0.76 |\n",
       "| Alberta          | 2020-03-11 | 14 | 0 | 1969 | 7 | 0.32 |\n",
       "| Saskatchewan     | 2020-03-11 |  0 | 0 |  204 | 0 | 0.00 |\n",
       "| Manitoba         | 2020-03-11 |  0 | 0 |  352 | 0 | 0.00 |\n",
       "| Ontario          | 2020-03-11 | 42 | 1 | 3394 | 8 | 0.29 |\n",
       "| Quebec           | 2020-03-11 |  7 | 0 |  556 | 3 | 0.08 |\n",
       "\n"
      ],
      "text/plain": [
       "  prname           date       numconf numdeaths numtested numtoday ratetotal\n",
       "1 British Columbia 2020-03-11 39      1         4373      7        0.76     \n",
       "2 Alberta          2020-03-11 14      0         1969      7        0.32     \n",
       "3 Saskatchewan     2020-03-11  0      0          204      0        0.00     \n",
       "4 Manitoba         2020-03-11  0      0          352      0        0.00     \n",
       "5 Ontario          2020-03-11 42      1         3394      8        0.29     \n",
       "6 Quebec           2020-03-11  7      0          556      3        0.08     "
      ]
     },
     "metadata": {},
     "output_type": "display_data"
    }
   ],
   "source": [
    "#we will now select the columns we would like to work with\n",
    "covid_selected = covid  %>%\n",
    "    select(c(prname, date, numconf, numdeaths, numtested, numtoday,ratetotal))\n",
    "head(covid_selected)"
   ]
  },
  {
   "cell_type": "code",
   "execution_count": 57,
   "metadata": {},
   "outputs": [
    {
     "data": {
      "text/html": [
       "<table>\n",
       "<caption>A tibble: 6 × 7</caption>\n",
       "<thead>\n",
       "\t<tr><th scope=col>prname</th><th scope=col>date</th><th scope=col>numconf</th><th scope=col>numdeaths</th><th scope=col>numtested</th><th scope=col>numtoday</th><th scope=col>ratetotal</th></tr>\n",
       "\t<tr><th scope=col>&lt;chr&gt;</th><th scope=col>&lt;date&gt;</th><th scope=col>&lt;dbl&gt;</th><th scope=col>&lt;dbl&gt;</th><th scope=col>&lt;dbl&gt;</th><th scope=col>&lt;dbl&gt;</th><th scope=col>&lt;dbl&gt;</th></tr>\n",
       "</thead>\n",
       "<tbody>\n",
       "\t<tr><td>British Columbia</td><td>2020-03-11</td><td>39</td><td>1</td><td>4373</td><td>7</td><td>0.76</td></tr>\n",
       "\t<tr><td>Alberta         </td><td>2020-03-11</td><td>14</td><td>0</td><td>1969</td><td>7</td><td>0.32</td></tr>\n",
       "\t<tr><td>Saskatchewan    </td><td>2020-03-11</td><td> 0</td><td>0</td><td> 204</td><td>0</td><td>0.00</td></tr>\n",
       "\t<tr><td>Manitoba        </td><td>2020-03-11</td><td> 0</td><td>0</td><td> 352</td><td>0</td><td>0.00</td></tr>\n",
       "\t<tr><td>Ontario         </td><td>2020-03-11</td><td>42</td><td>1</td><td>3394</td><td>8</td><td>0.29</td></tr>\n",
       "\t<tr><td>Quebec          </td><td>2020-03-11</td><td> 7</td><td>0</td><td> 556</td><td>3</td><td>0.08</td></tr>\n",
       "</tbody>\n",
       "</table>\n"
      ],
      "text/latex": [
       "A tibble: 6 × 7\n",
       "\\begin{tabular}{lllllll}\n",
       " prname & date & numconf & numdeaths & numtested & numtoday & ratetotal\\\\\n",
       " <chr> & <date> & <dbl> & <dbl> & <dbl> & <dbl> & <dbl>\\\\\n",
       "\\hline\n",
       "\t British Columbia & 2020-03-11 & 39 & 1 & 4373 & 7 & 0.76\\\\\n",
       "\t Alberta          & 2020-03-11 & 14 & 0 & 1969 & 7 & 0.32\\\\\n",
       "\t Saskatchewan     & 2020-03-11 &  0 & 0 &  204 & 0 & 0.00\\\\\n",
       "\t Manitoba         & 2020-03-11 &  0 & 0 &  352 & 0 & 0.00\\\\\n",
       "\t Ontario          & 2020-03-11 & 42 & 1 & 3394 & 8 & 0.29\\\\\n",
       "\t Quebec           & 2020-03-11 &  7 & 0 &  556 & 3 & 0.08\\\\\n",
       "\\end{tabular}\n"
      ],
      "text/markdown": [
       "\n",
       "A tibble: 6 × 7\n",
       "\n",
       "| prname &lt;chr&gt; | date &lt;date&gt; | numconf &lt;dbl&gt; | numdeaths &lt;dbl&gt; | numtested &lt;dbl&gt; | numtoday &lt;dbl&gt; | ratetotal &lt;dbl&gt; |\n",
       "|---|---|---|---|---|---|---|\n",
       "| British Columbia | 2020-03-11 | 39 | 1 | 4373 | 7 | 0.76 |\n",
       "| Alberta          | 2020-03-11 | 14 | 0 | 1969 | 7 | 0.32 |\n",
       "| Saskatchewan     | 2020-03-11 |  0 | 0 |  204 | 0 | 0.00 |\n",
       "| Manitoba         | 2020-03-11 |  0 | 0 |  352 | 0 | 0.00 |\n",
       "| Ontario          | 2020-03-11 | 42 | 1 | 3394 | 8 | 0.29 |\n",
       "| Quebec           | 2020-03-11 |  7 | 0 |  556 | 3 | 0.08 |\n",
       "\n"
      ],
      "text/plain": [
       "  prname           date       numconf numdeaths numtested numtoday ratetotal\n",
       "1 British Columbia 2020-03-11 39      1         4373      7        0.76     \n",
       "2 Alberta          2020-03-11 14      0         1969      7        0.32     \n",
       "3 Saskatchewan     2020-03-11  0      0          204      0        0.00     \n",
       "4 Manitoba         2020-03-11  0      0          352      0        0.00     \n",
       "5 Ontario          2020-03-11 42      1         3394      8        0.29     \n",
       "6 Quebec           2020-03-11  7      0          556      3        0.08     "
      ]
     },
     "metadata": {},
     "output_type": "display_data"
    }
   ],
   "source": [
    "covid_selected$date <- as.Date(covid_wrangled$date)\n",
    "head(covid_selected)"
   ]
  },
  {
   "cell_type": "markdown",
   "metadata": {},
   "source": [
    "As we are comparing the timeline between confirmed cases to the holidays, we will categorize and filter our data according to canadian holidays"
   ]
  },
  {
   "cell_type": "code",
   "execution_count": 58,
   "metadata": {},
   "outputs": [
    {
     "name": "stderr",
     "output_type": "stream",
     "text": [
      "Parsed with column specification:\n",
      "cols(\n",
      "  date = \u001b[34mcol_date(format = \"\")\u001b[39m,\n",
      "  holiday = \u001b[31mcol_character()\u001b[39m\n",
      ")\n",
      "\n"
     ]
    },
    {
     "data": {
      "text/html": [
       "<table>\n",
       "<caption>A tibble: 6 × 2</caption>\n",
       "<thead>\n",
       "\t<tr><th scope=col>date</th><th scope=col>holiday</th></tr>\n",
       "\t<tr><th scope=col>&lt;date&gt;</th><th scope=col>&lt;chr&gt;</th></tr>\n",
       "</thead>\n",
       "<tbody>\n",
       "\t<tr><td>2012-01-02</td><td>New Year's Day</td></tr>\n",
       "\t<tr><td>2012-02-20</td><td>Family Day    </td></tr>\n",
       "\t<tr><td>2012-04-06</td><td>Good Friday   </td></tr>\n",
       "\t<tr><td>2012-05-21</td><td>Victoria Day  </td></tr>\n",
       "\t<tr><td>2012-07-02</td><td>Canada Day    </td></tr>\n",
       "\t<tr><td>2012-08-06</td><td>Civic Holiday </td></tr>\n",
       "</tbody>\n",
       "</table>\n"
      ],
      "text/latex": [
       "A tibble: 6 × 2\n",
       "\\begin{tabular}{ll}\n",
       " date & holiday\\\\\n",
       " <date> & <chr>\\\\\n",
       "\\hline\n",
       "\t 2012-01-02 & New Year's Day\\\\\n",
       "\t 2012-02-20 & Family Day    \\\\\n",
       "\t 2012-04-06 & Good Friday   \\\\\n",
       "\t 2012-05-21 & Victoria Day  \\\\\n",
       "\t 2012-07-02 & Canada Day    \\\\\n",
       "\t 2012-08-06 & Civic Holiday \\\\\n",
       "\\end{tabular}\n"
      ],
      "text/markdown": [
       "\n",
       "A tibble: 6 × 2\n",
       "\n",
       "| date &lt;date&gt; | holiday &lt;chr&gt; |\n",
       "|---|---|\n",
       "| 2012-01-02 | New Year's Day |\n",
       "| 2012-02-20 | Family Day     |\n",
       "| 2012-04-06 | Good Friday    |\n",
       "| 2012-05-21 | Victoria Day   |\n",
       "| 2012-07-02 | Canada Day     |\n",
       "| 2012-08-06 | Civic Holiday  |\n",
       "\n"
      ],
      "text/plain": [
       "  date       holiday       \n",
       "1 2012-01-02 New Year's Day\n",
       "2 2012-02-20 Family Day    \n",
       "3 2012-04-06 Good Friday   \n",
       "4 2012-05-21 Victoria Day  \n",
       "5 2012-07-02 Canada Day    \n",
       "6 2012-08-06 Civic Holiday "
      ]
     },
     "metadata": {},
     "output_type": "display_data"
    }
   ],
   "source": [
    "#we will use the University of Waterloo dataset to have a tibble of Canadian holidays\n",
    "cdn_holidays  <- read_csv(\"https://raw.githubusercontent.com/uWaterloo/Datasets/master/Holidays/holidays.csv\")\n",
    "head(cdn_holidays)"
   ]
  },
  {
   "cell_type": "code",
   "execution_count": 9,
   "metadata": {},
   "outputs": [
    {
     "data": {
      "text/html": [
       "<table>\n",
       "<caption>A spec_tbl_df: 6 × 2</caption>\n",
       "<thead>\n",
       "\t<tr><th scope=col>date</th><th scope=col>holiday</th></tr>\n",
       "\t<tr><th scope=col>&lt;date&gt;</th><th scope=col>&lt;chr&gt;</th></tr>\n",
       "</thead>\n",
       "<tbody>\n",
       "\t<tr><td>2020-04-10</td><td>Good Friday   </td></tr>\n",
       "\t<tr><td>2020-07-01</td><td>Canada Day    </td></tr>\n",
       "\t<tr><td>2020-09-07</td><td>Labour Day    </td></tr>\n",
       "\t<tr><td>2020-10-12</td><td>Thanksgiving  </td></tr>\n",
       "\t<tr><td>2020-12-25</td><td>Christmas Day </td></tr>\n",
       "\t<tr><td>2021-01-01</td><td>New Year's Day</td></tr>\n",
       "</tbody>\n",
       "</table>\n"
      ],
      "text/latex": [
       "A spec\\_tbl\\_df: 6 × 2\n",
       "\\begin{tabular}{ll}\n",
       " date & holiday\\\\\n",
       " <date> & <chr>\\\\\n",
       "\\hline\n",
       "\t 2020-04-10 & Good Friday   \\\\\n",
       "\t 2020-07-01 & Canada Day    \\\\\n",
       "\t 2020-09-07 & Labour Day    \\\\\n",
       "\t 2020-10-12 & Thanksgiving  \\\\\n",
       "\t 2020-12-25 & Christmas Day \\\\\n",
       "\t 2021-01-01 & New Year's Day\\\\\n",
       "\\end{tabular}\n"
      ],
      "text/markdown": [
       "\n",
       "A spec_tbl_df: 6 × 2\n",
       "\n",
       "| date &lt;date&gt; | holiday &lt;chr&gt; |\n",
       "|---|---|\n",
       "| 2020-04-10 | Good Friday    |\n",
       "| 2020-07-01 | Canada Day     |\n",
       "| 2020-09-07 | Labour Day     |\n",
       "| 2020-10-12 | Thanksgiving   |\n",
       "| 2020-12-25 | Christmas Day  |\n",
       "| 2021-01-01 | New Year's Day |\n",
       "\n"
      ],
      "text/plain": [
       "  date       holiday       \n",
       "1 2020-04-10 Good Friday   \n",
       "2 2020-07-01 Canada Day    \n",
       "3 2020-09-07 Labour Day    \n",
       "4 2020-10-12 Thanksgiving  \n",
       "5 2020-12-25 Christmas Day \n",
       "6 2021-01-01 New Year's Day"
      ]
     },
     "metadata": {},
     "output_type": "display_data"
    }
   ],
   "source": [
    "#We will only consider Canadian public holidays within the date of the first observation \n",
    "# and last observation of the covid dataset\n",
    "\n",
    "public_holidays  <- cdn_holidays  %>% \n",
    "    filter(holiday %in% c(\"New Year's Day\", \"Good Friday\", \"Canada Day\", \n",
    "                          \"Labour Day\", \"Thanksgiving\", \"Christmas Day\"))  %>% \n",
    "    filter(date >= min(covid_wrangled$date), date <= max(covid_wrangled$date))\n",
    "                    \n",
    "public_holidays"
   ]
  },
  {
   "cell_type": "code",
   "execution_count": 59,
   "metadata": {},
   "outputs": [
    {
     "data": {
      "text/html": [
       "<table>\n",
       "<caption>A spec_tbl_df: 6 × 4</caption>\n",
       "<thead>\n",
       "\t<tr><th scope=col>date</th><th scope=col>holiday</th><th scope=col>post_holiday</th><th scope=col>pre_holiday</th></tr>\n",
       "\t<tr><th scope=col>&lt;date&gt;</th><th scope=col>&lt;chr&gt;</th><th scope=col>&lt;date&gt;</th><th scope=col>&lt;date&gt;</th></tr>\n",
       "</thead>\n",
       "<tbody>\n",
       "\t<tr><td>2020-04-10</td><td>Good Friday   </td><td>2020-04-27</td><td>2020-04-03</td></tr>\n",
       "\t<tr><td>2020-07-01</td><td>Canada Day    </td><td>2020-07-18</td><td>2020-06-24</td></tr>\n",
       "\t<tr><td>2020-09-07</td><td>Labour Day    </td><td>2020-09-24</td><td>2020-08-31</td></tr>\n",
       "\t<tr><td>2020-10-12</td><td>Thanksgiving  </td><td>2020-10-29</td><td>2020-10-05</td></tr>\n",
       "\t<tr><td>2020-12-25</td><td>Christmas Day </td><td>2021-01-11</td><td>2020-12-18</td></tr>\n",
       "\t<tr><td>2021-01-01</td><td>New Year's Day</td><td>2021-01-18</td><td>2020-12-25</td></tr>\n",
       "</tbody>\n",
       "</table>\n"
      ],
      "text/latex": [
       "A spec\\_tbl\\_df: 6 × 4\n",
       "\\begin{tabular}{llll}\n",
       " date & holiday & post\\_holiday & pre\\_holiday\\\\\n",
       " <date> & <chr> & <date> & <date>\\\\\n",
       "\\hline\n",
       "\t 2020-04-10 & Good Friday    & 2020-04-27 & 2020-04-03\\\\\n",
       "\t 2020-07-01 & Canada Day     & 2020-07-18 & 2020-06-24\\\\\n",
       "\t 2020-09-07 & Labour Day     & 2020-09-24 & 2020-08-31\\\\\n",
       "\t 2020-10-12 & Thanksgiving   & 2020-10-29 & 2020-10-05\\\\\n",
       "\t 2020-12-25 & Christmas Day  & 2021-01-11 & 2020-12-18\\\\\n",
       "\t 2021-01-01 & New Year's Day & 2021-01-18 & 2020-12-25\\\\\n",
       "\\end{tabular}\n"
      ],
      "text/markdown": [
       "\n",
       "A spec_tbl_df: 6 × 4\n",
       "\n",
       "| date &lt;date&gt; | holiday &lt;chr&gt; | post_holiday &lt;date&gt; | pre_holiday &lt;date&gt; |\n",
       "|---|---|---|---|\n",
       "| 2020-04-10 | Good Friday    | 2020-04-27 | 2020-04-03 |\n",
       "| 2020-07-01 | Canada Day     | 2020-07-18 | 2020-06-24 |\n",
       "| 2020-09-07 | Labour Day     | 2020-09-24 | 2020-08-31 |\n",
       "| 2020-10-12 | Thanksgiving   | 2020-10-29 | 2020-10-05 |\n",
       "| 2020-12-25 | Christmas Day  | 2021-01-11 | 2020-12-18 |\n",
       "| 2021-01-01 | New Year's Day | 2021-01-18 | 2020-12-25 |\n",
       "\n"
      ],
      "text/plain": [
       "  date       holiday        post_holiday pre_holiday\n",
       "1 2020-04-10 Good Friday    2020-04-27   2020-04-03 \n",
       "2 2020-07-01 Canada Day     2020-07-18   2020-06-24 \n",
       "3 2020-09-07 Labour Day     2020-09-24   2020-08-31 \n",
       "4 2020-10-12 Thanksgiving   2020-10-29   2020-10-05 \n",
       "5 2020-12-25 Christmas Day  2021-01-11   2020-12-18 \n",
       "6 2021-01-01 New Year's Day 2021-01-18   2020-12-25 "
      ]
     },
     "metadata": {},
     "output_type": "display_data"
    }
   ],
   "source": [
    "#as mentioned from cdc.gov, symptoms may appear 2-14 days after first encounter\n",
    "#within the holidays dataframe, we would like to measure dates 2 weeks (14 days) after the holiday. \n",
    "#We will give a little room for celebrations celebrated close to the actual holiday (14 days will become 17 days).\n",
    "\n",
    "#likewise we will also add a column for a week in advance to the holiday.\n",
    "public_holiday_bound <- public_holidays  %>% \n",
    "    mutate(post_holiday = date + 17, pre_holiday = date - 7) \n",
    "\n",
    "public_holiday_bound"
   ]
  },
  {
   "cell_type": "code",
   "execution_count": 60,
   "metadata": {},
   "outputs": [],
   "source": [
    "#holiday bounds\n",
    "pre_good_friday = ymd(public_holiday_bound$pre_holiday[public_holiday_bound$holiday == 'Good Friday'])\n",
    "pre_canada_day = ymd(public_holiday_bound$pre_holiday[public_holiday_bound$holiday == 'Canada Day'])\n",
    "pre_labour_day = ymd(public_holiday_bound$pre_holiday[public_holiday_bound$holiday == 'Labour Day'])\n",
    "pre_thanksgiving = ymd(public_holiday_bound$pre_holiday[public_holiday_bound$holiday == 'Thanksgiving'])\n",
    "pre_christmas = ymd(public_holiday_bound$pre_holiday[public_holiday_bound$holiday == 'Christmas Day'])\n",
    "pre_new_years = ymd(public_holiday_bound$pre_holiday[public_holiday_bound$holiday == \"New Year's Day\"])\n",
    "\n",
    "post_good_friday = ymd(public_holiday_bound$post_holiday[public_holiday_bound$holiday == 'Good Friday'])\n",
    "post_canada_day = ymd(public_holiday_bound$post_holiday[public_holiday_bound$holiday == 'Canada Day'])\n",
    "post_labour_day = ymd(public_holiday_bound$post_holiday[public_holiday_bound$holiday == 'Labour Day'])\n",
    "post_thanksgiving = ymd(public_holiday_bound$post_holiday[public_holiday_bound$holiday == 'Thanksgiving'])\n",
    "post_christmas = ymd(public_holiday_bound$post_holiday[public_holiday_bound$holiday == 'Christmas Day'])\n",
    "post_new_years = ymd(public_holiday_bound$post_holiday[public_holiday_bound$holiday == \"New Year's Day\"])\n",
    "\n",
    "good_friday = ymd(public_holiday_bound$date[public_holiday_bound$holiday == 'Good Friday'])\n",
    "canada_day = ymd(public_holiday_bound$date[public_holiday_bound$holiday == 'Canada Day'])\n",
    "labour_day = ymd(public_holiday_bound$date[public_holiday_bound$holiday == 'Labour Day'])\n",
    "thanksgiving = ymd(public_holiday_bound$date[public_holiday_bound$holiday == 'Thanksgiving'])\n",
    "christmas = ymd(public_holiday_bound$date[public_holiday_bound$holiday == 'Christmas Day'])\n",
    "new_years = ymd(public_holiday_bound$date[public_holiday_bound$holiday == \"New Year's Day\"])"
   ]
  },
  {
   "cell_type": "code",
   "execution_count": 61,
   "metadata": {},
   "outputs": [
    {
     "data": {
      "text/html": [
       "<table>\n",
       "<caption>A tibble: 6 × 8</caption>\n",
       "<thead>\n",
       "\t<tr><th scope=col>prname</th><th scope=col>date</th><th scope=col>numconf</th><th scope=col>numdeaths</th><th scope=col>numtested</th><th scope=col>numtoday</th><th scope=col>ratetotal</th><th scope=col>holiday</th></tr>\n",
       "\t<tr><th scope=col>&lt;chr&gt;</th><th scope=col>&lt;date&gt;</th><th scope=col>&lt;dbl&gt;</th><th scope=col>&lt;dbl&gt;</th><th scope=col>&lt;dbl&gt;</th><th scope=col>&lt;dbl&gt;</th><th scope=col>&lt;dbl&gt;</th><th scope=col>&lt;chr&gt;</th></tr>\n",
       "</thead>\n",
       "<tbody>\n",
       "\t<tr><td>British Columbia</td><td>2020-04-03</td><td>1174</td><td>35</td><td>39926</td><td> 53</td><td>22.81</td><td>Good Friday</td></tr>\n",
       "\t<tr><td>Alberta         </td><td>2020-04-03</td><td>1075</td><td>18</td><td>60508</td><td>107</td><td>24.31</td><td>Good Friday</td></tr>\n",
       "\t<tr><td>Saskatchewan    </td><td>2020-04-03</td><td> 220</td><td> 3</td><td>11720</td><td> 14</td><td>18.66</td><td>Good Friday</td></tr>\n",
       "\t<tr><td>Manitoba        </td><td>2020-04-03</td><td> 164</td><td> 2</td><td>11650</td><td> 15</td><td>13.20</td><td>Good Friday</td></tr>\n",
       "\t<tr><td>Ontario         </td><td>2020-04-03</td><td>3255</td><td>67</td><td>67998</td><td>462</td><td>22.09</td><td>Good Friday</td></tr>\n",
       "\t<tr><td>Quebec          </td><td>2020-04-03</td><td>6101</td><td>61</td><td>83570</td><td>583</td><td>71.15</td><td>Good Friday</td></tr>\n",
       "</tbody>\n",
       "</table>\n"
      ],
      "text/latex": [
       "A tibble: 6 × 8\n",
       "\\begin{tabular}{llllllll}\n",
       " prname & date & numconf & numdeaths & numtested & numtoday & ratetotal & holiday\\\\\n",
       " <chr> & <date> & <dbl> & <dbl> & <dbl> & <dbl> & <dbl> & <chr>\\\\\n",
       "\\hline\n",
       "\t British Columbia & 2020-04-03 & 1174 & 35 & 39926 &  53 & 22.81 & Good Friday\\\\\n",
       "\t Alberta          & 2020-04-03 & 1075 & 18 & 60508 & 107 & 24.31 & Good Friday\\\\\n",
       "\t Saskatchewan     & 2020-04-03 &  220 &  3 & 11720 &  14 & 18.66 & Good Friday\\\\\n",
       "\t Manitoba         & 2020-04-03 &  164 &  2 & 11650 &  15 & 13.20 & Good Friday\\\\\n",
       "\t Ontario          & 2020-04-03 & 3255 & 67 & 67998 & 462 & 22.09 & Good Friday\\\\\n",
       "\t Quebec           & 2020-04-03 & 6101 & 61 & 83570 & 583 & 71.15 & Good Friday\\\\\n",
       "\\end{tabular}\n"
      ],
      "text/markdown": [
       "\n",
       "A tibble: 6 × 8\n",
       "\n",
       "| prname &lt;chr&gt; | date &lt;date&gt; | numconf &lt;dbl&gt; | numdeaths &lt;dbl&gt; | numtested &lt;dbl&gt; | numtoday &lt;dbl&gt; | ratetotal &lt;dbl&gt; | holiday &lt;chr&gt; |\n",
       "|---|---|---|---|---|---|---|---|\n",
       "| British Columbia | 2020-04-03 | 1174 | 35 | 39926 |  53 | 22.81 | Good Friday |\n",
       "| Alberta          | 2020-04-03 | 1075 | 18 | 60508 | 107 | 24.31 | Good Friday |\n",
       "| Saskatchewan     | 2020-04-03 |  220 |  3 | 11720 |  14 | 18.66 | Good Friday |\n",
       "| Manitoba         | 2020-04-03 |  164 |  2 | 11650 |  15 | 13.20 | Good Friday |\n",
       "| Ontario          | 2020-04-03 | 3255 | 67 | 67998 | 462 | 22.09 | Good Friday |\n",
       "| Quebec           | 2020-04-03 | 6101 | 61 | 83570 | 583 | 71.15 | Good Friday |\n",
       "\n"
      ],
      "text/plain": [
       "  prname           date       numconf numdeaths numtested numtoday ratetotal\n",
       "1 British Columbia 2020-04-03 1174    35        39926      53      22.81    \n",
       "2 Alberta          2020-04-03 1075    18        60508     107      24.31    \n",
       "3 Saskatchewan     2020-04-03  220     3        11720      14      18.66    \n",
       "4 Manitoba         2020-04-03  164     2        11650      15      13.20    \n",
       "5 Ontario          2020-04-03 3255    67        67998     462      22.09    \n",
       "6 Quebec           2020-04-03 6101    61        83570     583      71.15    \n",
       "  holiday    \n",
       "1 Good Friday\n",
       "2 Good Friday\n",
       "3 Good Friday\n",
       "4 Good Friday\n",
       "5 Good Friday\n",
       "6 Good Friday"
      ]
     },
     "metadata": {},
     "output_type": "display_data"
    }
   ],
   "source": [
    "#here we are binding the observation to the given holiday period\n",
    "covid_clean  <- covid_selected  %>%  \n",
    "    mutate(holiday = case_when(\n",
    "    (.$date >= pre_good_friday) & (.$date <= post_good_friday) ~ \"Good Friday\",\n",
    "    (.$date >= pre_canada_day) & (.$date <= post_canada_day) ~ \"Canada Day\",\n",
    "    (.$date >= pre_labour_day) & (.$date <= post_labour_day) ~ \"Labour Day\",\n",
    "    (.$date >= pre_thanksgiving) & (.$date <= post_thanksgiving) ~ \"Thanksgiving\", \n",
    "    (.$date >= pre_christmas) & (.$date <= post_christmas) ~ \"Christmas Day\",\n",
    "    (.$date >= pre_new_years) & (.$date <= post_new_years) ~ \"New Year's Day\"))  %>% \n",
    "    filter(!is.na(holiday))\n",
    "\n",
    "head(covid_clean)"
   ]
  },
  {
   "cell_type": "markdown",
   "metadata": {},
   "source": [
    "additionally we will add a column to find the proportion between number of confirmed cases to the number of tested individuals "
   ]
  },
  {
   "cell_type": "code",
   "execution_count": 62,
   "metadata": {},
   "outputs": [
    {
     "data": {
      "text/html": [
       "<table>\n",
       "<caption>A tibble: 6 × 9</caption>\n",
       "<thead>\n",
       "\t<tr><th scope=col>prname</th><th scope=col>date</th><th scope=col>numconf</th><th scope=col>numdeaths</th><th scope=col>numtested</th><th scope=col>numtoday</th><th scope=col>ratetotal</th><th scope=col>holiday</th><th scope=col>category</th></tr>\n",
       "\t<tr><th scope=col>&lt;chr&gt;</th><th scope=col>&lt;date&gt;</th><th scope=col>&lt;dbl&gt;</th><th scope=col>&lt;dbl&gt;</th><th scope=col>&lt;dbl&gt;</th><th scope=col>&lt;dbl&gt;</th><th scope=col>&lt;dbl&gt;</th><th scope=col>&lt;chr&gt;</th><th scope=col>&lt;chr&gt;</th></tr>\n",
       "</thead>\n",
       "<tbody>\n",
       "\t<tr><td>British Columbia</td><td>2020-04-03</td><td>1174</td><td>35</td><td>39926</td><td> 53</td><td>22.81</td><td>Good Friday</td><td>pre holiday</td></tr>\n",
       "\t<tr><td>Alberta         </td><td>2020-04-03</td><td>1075</td><td>18</td><td>60508</td><td>107</td><td>24.31</td><td>Good Friday</td><td>pre holiday</td></tr>\n",
       "\t<tr><td>Saskatchewan    </td><td>2020-04-03</td><td> 220</td><td> 3</td><td>11720</td><td> 14</td><td>18.66</td><td>Good Friday</td><td>pre holiday</td></tr>\n",
       "\t<tr><td>Manitoba        </td><td>2020-04-03</td><td> 164</td><td> 2</td><td>11650</td><td> 15</td><td>13.20</td><td>Good Friday</td><td>pre holiday</td></tr>\n",
       "\t<tr><td>Ontario         </td><td>2020-04-03</td><td>3255</td><td>67</td><td>67998</td><td>462</td><td>22.09</td><td>Good Friday</td><td>pre holiday</td></tr>\n",
       "\t<tr><td>Quebec          </td><td>2020-04-03</td><td>6101</td><td>61</td><td>83570</td><td>583</td><td>71.15</td><td>Good Friday</td><td>pre holiday</td></tr>\n",
       "</tbody>\n",
       "</table>\n"
      ],
      "text/latex": [
       "A tibble: 6 × 9\n",
       "\\begin{tabular}{lllllllll}\n",
       " prname & date & numconf & numdeaths & numtested & numtoday & ratetotal & holiday & category\\\\\n",
       " <chr> & <date> & <dbl> & <dbl> & <dbl> & <dbl> & <dbl> & <chr> & <chr>\\\\\n",
       "\\hline\n",
       "\t British Columbia & 2020-04-03 & 1174 & 35 & 39926 &  53 & 22.81 & Good Friday & pre holiday\\\\\n",
       "\t Alberta          & 2020-04-03 & 1075 & 18 & 60508 & 107 & 24.31 & Good Friday & pre holiday\\\\\n",
       "\t Saskatchewan     & 2020-04-03 &  220 &  3 & 11720 &  14 & 18.66 & Good Friday & pre holiday\\\\\n",
       "\t Manitoba         & 2020-04-03 &  164 &  2 & 11650 &  15 & 13.20 & Good Friday & pre holiday\\\\\n",
       "\t Ontario          & 2020-04-03 & 3255 & 67 & 67998 & 462 & 22.09 & Good Friday & pre holiday\\\\\n",
       "\t Quebec           & 2020-04-03 & 6101 & 61 & 83570 & 583 & 71.15 & Good Friday & pre holiday\\\\\n",
       "\\end{tabular}\n"
      ],
      "text/markdown": [
       "\n",
       "A tibble: 6 × 9\n",
       "\n",
       "| prname &lt;chr&gt; | date &lt;date&gt; | numconf &lt;dbl&gt; | numdeaths &lt;dbl&gt; | numtested &lt;dbl&gt; | numtoday &lt;dbl&gt; | ratetotal &lt;dbl&gt; | holiday &lt;chr&gt; | category &lt;chr&gt; |\n",
       "|---|---|---|---|---|---|---|---|---|\n",
       "| British Columbia | 2020-04-03 | 1174 | 35 | 39926 |  53 | 22.81 | Good Friday | pre holiday |\n",
       "| Alberta          | 2020-04-03 | 1075 | 18 | 60508 | 107 | 24.31 | Good Friday | pre holiday |\n",
       "| Saskatchewan     | 2020-04-03 |  220 |  3 | 11720 |  14 | 18.66 | Good Friday | pre holiday |\n",
       "| Manitoba         | 2020-04-03 |  164 |  2 | 11650 |  15 | 13.20 | Good Friday | pre holiday |\n",
       "| Ontario          | 2020-04-03 | 3255 | 67 | 67998 | 462 | 22.09 | Good Friday | pre holiday |\n",
       "| Quebec           | 2020-04-03 | 6101 | 61 | 83570 | 583 | 71.15 | Good Friday | pre holiday |\n",
       "\n"
      ],
      "text/plain": [
       "  prname           date       numconf numdeaths numtested numtoday ratetotal\n",
       "1 British Columbia 2020-04-03 1174    35        39926      53      22.81    \n",
       "2 Alberta          2020-04-03 1075    18        60508     107      24.31    \n",
       "3 Saskatchewan     2020-04-03  220     3        11720      14      18.66    \n",
       "4 Manitoba         2020-04-03  164     2        11650      15      13.20    \n",
       "5 Ontario          2020-04-03 3255    67        67998     462      22.09    \n",
       "6 Quebec           2020-04-03 6101    61        83570     583      71.15    \n",
       "  holiday     category   \n",
       "1 Good Friday pre holiday\n",
       "2 Good Friday pre holiday\n",
       "3 Good Friday pre holiday\n",
       "4 Good Friday pre holiday\n",
       "5 Good Friday pre holiday\n",
       "6 Good Friday pre holiday"
      ]
     },
     "metadata": {},
     "output_type": "display_data"
    }
   ],
   "source": [
    "#we add another category to identify if the observation is pre, post, or during the holiday\n",
    "covid_categorized  <- covid_clean  %>%  \n",
    "    mutate(category = case_when(\n",
    "    (.$date >= pre_good_friday) & (.$date < good_friday)  | \n",
    "    (.$date >= pre_canada_day) & (.$date < canada_day) |\n",
    "    (.$date >= pre_labour_day) & (.$date < labour_day) |\n",
    "    (.$date >= pre_thanksgiving) & (.$date < thanksgiving) |\n",
    "    (.$date >= pre_christmas) & (.$date < christmas) |\n",
    "    (.$date >= pre_new_years) & (.$date < new_years) ~ \"pre holiday\",\n",
    "    (.$date <= post_good_friday) & (.$date > good_friday)  | \n",
    "    (.$date <= post_canada_day) & (.$date > canada_day) |\n",
    "    (.$date <= post_labour_day) & (.$date > labour_day) |\n",
    "    (.$date <= post_thanksgiving) & (.$date > thanksgiving) |\n",
    "    (.$date <= post_christmas) & (.$date > christmas) |\n",
    "    (.$date <= post_new_years) & (.$date > new_years) ~ \"post holiday\",\n",
    "    (.$date == good_friday)  | \n",
    "    (.$date == canada_day) |\n",
    "    (.$date == labour_day) |\n",
    "    (.$date == thanksgiving) |\n",
    "    (.$date == christmas) |\n",
    "    (.$date == new_years) ~ \"during holiday\"))\n",
    "           \n",
    "head(covid_categorized)"
   ]
  },
  {
   "cell_type": "code",
   "execution_count": 63,
   "metadata": {},
   "outputs": [
    {
     "data": {
      "text/html": [
       "<table>\n",
       "<caption>A tibble: 6 × 10</caption>\n",
       "<thead>\n",
       "\t<tr><th scope=col>prname</th><th scope=col>date</th><th scope=col>numconf</th><th scope=col>numdeaths</th><th scope=col>numtested</th><th scope=col>numtoday</th><th scope=col>ratetotal</th><th scope=col>holiday</th><th scope=col>category</th><th scope=col>propconfirmed</th></tr>\n",
       "\t<tr><th scope=col>&lt;chr&gt;</th><th scope=col>&lt;date&gt;</th><th scope=col>&lt;dbl&gt;</th><th scope=col>&lt;dbl&gt;</th><th scope=col>&lt;dbl&gt;</th><th scope=col>&lt;dbl&gt;</th><th scope=col>&lt;dbl&gt;</th><th scope=col>&lt;chr&gt;</th><th scope=col>&lt;chr&gt;</th><th scope=col>&lt;dbl&gt;</th></tr>\n",
       "</thead>\n",
       "<tbody>\n",
       "\t<tr><td>British Columbia</td><td>2020-04-03</td><td>1174</td><td>35</td><td>39926</td><td> 53</td><td>22.81</td><td>Good Friday</td><td>pre holiday</td><td>0.02940440</td></tr>\n",
       "\t<tr><td>Alberta         </td><td>2020-04-03</td><td>1075</td><td>18</td><td>60508</td><td>107</td><td>24.31</td><td>Good Friday</td><td>pre holiday</td><td>0.01776625</td></tr>\n",
       "\t<tr><td>Saskatchewan    </td><td>2020-04-03</td><td> 220</td><td> 3</td><td>11720</td><td> 14</td><td>18.66</td><td>Good Friday</td><td>pre holiday</td><td>0.01877133</td></tr>\n",
       "\t<tr><td>Manitoba        </td><td>2020-04-03</td><td> 164</td><td> 2</td><td>11650</td><td> 15</td><td>13.20</td><td>Good Friday</td><td>pre holiday</td><td>0.01407725</td></tr>\n",
       "\t<tr><td>Ontario         </td><td>2020-04-03</td><td>3255</td><td>67</td><td>67998</td><td>462</td><td>22.09</td><td>Good Friday</td><td>pre holiday</td><td>0.04786905</td></tr>\n",
       "\t<tr><td>Quebec          </td><td>2020-04-03</td><td>6101</td><td>61</td><td>83570</td><td>583</td><td>71.15</td><td>Good Friday</td><td>pre holiday</td><td>0.07300467</td></tr>\n",
       "</tbody>\n",
       "</table>\n"
      ],
      "text/latex": [
       "A tibble: 6 × 10\n",
       "\\begin{tabular}{llllllllll}\n",
       " prname & date & numconf & numdeaths & numtested & numtoday & ratetotal & holiday & category & propconfirmed\\\\\n",
       " <chr> & <date> & <dbl> & <dbl> & <dbl> & <dbl> & <dbl> & <chr> & <chr> & <dbl>\\\\\n",
       "\\hline\n",
       "\t British Columbia & 2020-04-03 & 1174 & 35 & 39926 &  53 & 22.81 & Good Friday & pre holiday & 0.02940440\\\\\n",
       "\t Alberta          & 2020-04-03 & 1075 & 18 & 60508 & 107 & 24.31 & Good Friday & pre holiday & 0.01776625\\\\\n",
       "\t Saskatchewan     & 2020-04-03 &  220 &  3 & 11720 &  14 & 18.66 & Good Friday & pre holiday & 0.01877133\\\\\n",
       "\t Manitoba         & 2020-04-03 &  164 &  2 & 11650 &  15 & 13.20 & Good Friday & pre holiday & 0.01407725\\\\\n",
       "\t Ontario          & 2020-04-03 & 3255 & 67 & 67998 & 462 & 22.09 & Good Friday & pre holiday & 0.04786905\\\\\n",
       "\t Quebec           & 2020-04-03 & 6101 & 61 & 83570 & 583 & 71.15 & Good Friday & pre holiday & 0.07300467\\\\\n",
       "\\end{tabular}\n"
      ],
      "text/markdown": [
       "\n",
       "A tibble: 6 × 10\n",
       "\n",
       "| prname &lt;chr&gt; | date &lt;date&gt; | numconf &lt;dbl&gt; | numdeaths &lt;dbl&gt; | numtested &lt;dbl&gt; | numtoday &lt;dbl&gt; | ratetotal &lt;dbl&gt; | holiday &lt;chr&gt; | category &lt;chr&gt; | propconfirmed &lt;dbl&gt; |\n",
       "|---|---|---|---|---|---|---|---|---|---|\n",
       "| British Columbia | 2020-04-03 | 1174 | 35 | 39926 |  53 | 22.81 | Good Friday | pre holiday | 0.02940440 |\n",
       "| Alberta          | 2020-04-03 | 1075 | 18 | 60508 | 107 | 24.31 | Good Friday | pre holiday | 0.01776625 |\n",
       "| Saskatchewan     | 2020-04-03 |  220 |  3 | 11720 |  14 | 18.66 | Good Friday | pre holiday | 0.01877133 |\n",
       "| Manitoba         | 2020-04-03 |  164 |  2 | 11650 |  15 | 13.20 | Good Friday | pre holiday | 0.01407725 |\n",
       "| Ontario          | 2020-04-03 | 3255 | 67 | 67998 | 462 | 22.09 | Good Friday | pre holiday | 0.04786905 |\n",
       "| Quebec           | 2020-04-03 | 6101 | 61 | 83570 | 583 | 71.15 | Good Friday | pre holiday | 0.07300467 |\n",
       "\n"
      ],
      "text/plain": [
       "  prname           date       numconf numdeaths numtested numtoday ratetotal\n",
       "1 British Columbia 2020-04-03 1174    35        39926      53      22.81    \n",
       "2 Alberta          2020-04-03 1075    18        60508     107      24.31    \n",
       "3 Saskatchewan     2020-04-03  220     3        11720      14      18.66    \n",
       "4 Manitoba         2020-04-03  164     2        11650      15      13.20    \n",
       "5 Ontario          2020-04-03 3255    67        67998     462      22.09    \n",
       "6 Quebec           2020-04-03 6101    61        83570     583      71.15    \n",
       "  holiday     category    propconfirmed\n",
       "1 Good Friday pre holiday 0.02940440   \n",
       "2 Good Friday pre holiday 0.01776625   \n",
       "3 Good Friday pre holiday 0.01877133   \n",
       "4 Good Friday pre holiday 0.01407725   \n",
       "5 Good Friday pre holiday 0.04786905   \n",
       "6 Good Friday pre holiday 0.07300467   "
      ]
     },
     "metadata": {},
     "output_type": "display_data"
    }
   ],
   "source": [
    "covid_clean  <-  mutate(covid_categorized, propconfirmed = numconf / numtested)\n",
    "head(covid_clean)"
   ]
  },
  {
   "cell_type": "code",
   "execution_count": null,
   "metadata": {},
   "outputs": [],
   "source": []
  }
 ],
 "metadata": {
  "kernelspec": {
   "display_name": "R",
   "language": "R",
   "name": "ir"
  },
  "language_info": {
   "codemirror_mode": "r",
   "file_extension": ".r",
   "mimetype": "text/x-r-source",
   "name": "R",
   "pygments_lexer": "r",
   "version": "4.0.0"
  }
 },
 "nbformat": 4,
 "nbformat_minor": 4
}
